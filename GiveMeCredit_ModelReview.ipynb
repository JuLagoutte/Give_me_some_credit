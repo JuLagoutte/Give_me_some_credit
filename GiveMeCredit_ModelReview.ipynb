{
 "cells": [
  {
   "cell_type": "markdown",
   "metadata": {},
   "source": [
    "# Travail pour analyser notre dataset, notre modèle et nos résultats"
   ]
  },
  {
   "cell_type": "markdown",
   "metadata": {},
   "source": [
    "#### On récupère le fichier Kaggle"
   ]
  },
  {
   "cell_type": "code",
   "execution_count": 23,
   "metadata": {},
   "outputs": [],
   "source": [
    "from bigml.api import BigML\n",
    "from pandas import read_csv\n",
    "import json\n",
    "\n",
    "df = read_csv('csv_file/train_full.csv')\n",
    "api = BigML(project='project/5d94a454eba31d46690001d1')"
   ]
  },
  {
   "cell_type": "markdown",
   "metadata": {},
   "source": [
    "#### Envoi sur BigML\n",
    "\n",
    "##### Création source et dataset pour pouvoir travailler sur BigML"
   ]
  },
  {
   "cell_type": "code",
   "execution_count": 24,
   "metadata": {},
   "outputs": [
    {
     "data": {
      "text/plain": [
       "True"
      ]
     },
     "execution_count": 24,
     "metadata": {},
     "output_type": "execute_result"
    }
   ],
   "source": [
    "# Creation d'une source\n",
    "source = api.create_source('csv_file/train_full.csv')\n",
    "api.ok(source)\n",
    "# Creation d'un dataset ( = source )\n",
    "origin_dataset = api.create_dataset(source)\n",
    "api.ok(origin_dataset)"
   ]
  },
  {
   "cell_type": "markdown",
   "metadata": {},
   "source": [
    "#### Split du dataset Train/Val"
   ]
  },
  {
   "cell_type": "code",
   "execution_count": 27,
   "metadata": {},
   "outputs": [],
   "source": [
    "train_set = api.create_dataset(\n",
    "    origin_dataset, {\"name\": \"train_set\",\n",
    "                     \"sample_rate\": 0.8, \"seed\": \"my seed\"})\n",
    "validation_set = api.create_dataset(\n",
    "    origin_dataset, {\"name\": \"validation_set\",\n",
    "                     \"sample_rate\": 0.8, \"seed\": \"my seed\",\n",
    "                     \"out_of_bag\": True})"
   ]
  },
  {
   "cell_type": "markdown",
   "metadata": {},
   "source": [
    "#### Création fichier csv des 2 sets qui serviront pour l'amélioration continue\n",
    "- cf notebook : GiveMeCredit_ContinuousImprovement"
   ]
  },
  {
   "cell_type": "code",
   "execution_count": 33,
   "metadata": {},
   "outputs": [
    {
     "data": {
      "text/plain": [
       "'csv_file/validation_set.csv'"
      ]
     },
     "execution_count": 33,
     "metadata": {},
     "output_type": "execute_result"
    }
   ],
   "source": [
    "from bigml.api import BigML\n",
    "from pandas import read_csv\n",
    "\n",
    "api.ok(train_set)\n",
    "api.download_dataset(train_set, filename='csv_file/train_set.csv')\n",
    "api.ok(validation_set)\n",
    "api.download_dataset(validation_set, filename='csv_file/validation_set.csv')"
   ]
  },
  {
   "cell_type": "markdown",
   "metadata": {},
   "source": [
    "#### Création d'un modele ensemble sur la partie train du split du dataset TrainFull (On precise quelle est la donnée que l'on recherche)"
   ]
  },
  {
   "cell_type": "code",
   "execution_count": null,
   "metadata": {},
   "outputs": [],
   "source": [
    "ensemble = api.create_ensemble(train_set , {\"objective_field\" : \"SeriousDlqin2yrs\"})\n",
    "print(\"OK\")"
   ]
  },
  {
   "cell_type": "markdown",
   "metadata": {},
   "source": [
    "#### Récupération des données d'évaluation du modèle sur validation_set"
   ]
  },
  {
   "cell_type": "code",
   "execution_count": null,
   "metadata": {},
   "outputs": [],
   "source": [
    "import pandas\n",
    "\n",
    "evaluation = api.create_evaluation(ensemble, validation_set)\n",
    "api.ok(evaluation)\n",
    "%store evaluation\n",
    "eval = pandas.DataFrame(evaluation[\"object\"][\"result\"][\"model\"][\"confusion_matrix\"], index=[\"F\", \"P\"], columns=[\"F\", \"P\"])\n",
    "print(eval)"
   ]
  },
  {
   "cell_type": "markdown",
   "metadata": {},
   "source": [
    "#### Prédiction du modèle sur le validation_set "
   ]
  },
  {
   "cell_type": "code",
   "execution_count": null,
   "metadata": {},
   "outputs": [],
   "source": [
    "batch_prediction_validation_set = api.create_batch_prediction(ensemble, validation_set,{\"header\": True, \"all_fields\": True,\"prediction_name\": \"my_prediction\", \"probability\": True, \"probabilities\": True})\n",
    "api.ok(batch_prediction_validation_set)\n",
    "api.download_batch_prediction(batch_prediction_validation_set,filename='BatchPrediction/Validation_set_prediction.csv')"
   ]
  },
  {
   "cell_type": "markdown",
   "metadata": {},
   "source": [
    "#### Création de la matrice de confusion\n",
    "\n",
    "##### Cette matrice sert à diviser les prédictions en 4 catégories :\n",
    "- Vrai positifs : le modèle a prédit 1 et a eu raison\n",
    "- Vrai négatifs : le modèle a prédit 0 et a eu raison\n",
    "- Faux positifs : le modèle a prédit 1 et s'est trompé\n",
    "- Faux négatifs : le modèle a prédit 0 et s'est trompé"
   ]
  },
  {
   "cell_type": "code",
   "execution_count": null,
   "metadata": {},
   "outputs": [],
   "source": [
    "import pandas\n",
    "\n",
    "prediction = pandas.read_csv('BatchPrediction/Validation_set_prediction.csv')\n",
    "prediction.describe()"
   ]
  },
  {
   "cell_type": "code",
   "execution_count": null,
   "metadata": {},
   "outputs": [],
   "source": [
    "def matrix_confusion_method(row):\n",
    "    x = \"TN\"\n",
    "    if row['SeriousDlqin2yrs'] == 1:\n",
    "        if row['my_prediction'] == 1:\n",
    "            x = \"TP\"\n",
    "        else:\n",
    "            x = \"FN\"\n",
    "    else:\n",
    "        if row['my_prediction'] == 1:\n",
    "            x = \"FP\"\n",
    "    return x"
   ]
  },
  {
   "cell_type": "markdown",
   "metadata": {},
   "source": [
    "#### Affichage des valeurs de la matrice de confusion"
   ]
  },
  {
   "cell_type": "code",
   "execution_count": null,
   "metadata": {},
   "outputs": [],
   "source": [
    "def get_matrix_confusion():\n",
    "    prediction['Error'] = prediction.apply(matrix_confusion_method, axis=1)\n",
    "    return prediction['Error'].value_counts()\n",
    "\n",
    "matrix_confusion = get_matrix_confusion()\n",
    "print(matrix_confusion)"
   ]
  },
  {
   "cell_type": "markdown",
   "metadata": {},
   "source": [
    "#### Calcul de l'accuracy de notre modèle"
   ]
  },
  {
   "cell_type": "code",
   "execution_count": null,
   "metadata": {},
   "outputs": [],
   "source": [
    "accuracy = (matrix_confusion['TP'] + matrix_confusion ['TN'])/300\n",
    "print(accuracy)"
   ]
  },
  {
   "cell_type": "markdown",
   "metadata": {},
   "source": [
    "## Etapes du travail d'analyse d'erreurs  :\n",
    "- créer colonne \"erreur\" : i.e. colonne où on décrit si c'est un FN, FP, TN, TP\n",
    "- analyser les plus grosses erreurs (probability très proche de 1)"
   ]
  },
  {
   "cell_type": "markdown",
   "metadata": {},
   "source": [
    "#### Mise en forme de notre fichier pour analyse des erreurs les plus importantes\n",
    "\n",
    "##### Ici, on a décidé de sélectionner les 100 plus grosses erreurs du modèle :\n",
    "- C'est-à-dire que le modèle a fait une prédiction avec une probabilité très importante (ou avec un taux de confiance très fort) mais la prédiction est mauvaise"
   ]
  },
  {
   "cell_type": "code",
   "execution_count": null,
   "metadata": {},
   "outputs": [],
   "source": [
    "filtered = prediction.loc[prediction['Error'].isin([\"FN\", \"FP\"])]\n",
    "filtered = (filtered.nlargest(100, 'probability'))\n",
    "\n",
    "filtered.to_csv('csv_file/100mistakes.csv')\n",
    "filtered.describe()"
   ]
  },
  {
   "cell_type": "markdown",
   "metadata": {},
   "source": [
    "## Etapes de travail pour obtenir le seuil qui permet d'avoir le meilleur profit"
   ]
  },
  {
   "cell_type": "markdown",
   "metadata": {},
   "source": [
    "#### Fonction qui crée la colonne de prédiction en fonction du seuil (threshold)"
   ]
  },
  {
   "cell_type": "code",
   "execution_count": 41,
   "metadata": {},
   "outputs": [],
   "source": [
    "def threshold(row):\n",
    "    if row['1 probability'] < threshold_value:\n",
    "        prediction_value = 0\n",
    "    else: \n",
    "        prediction_value = 1\n",
    "    return prediction_value"
   ]
  },
  {
   "cell_type": "markdown",
   "metadata": {},
   "source": [
    "#### Fonction qui crée la colonne \"error\" qui classe dans une des 4 catégories de la matrice de confusion"
   ]
  },
  {
   "cell_type": "code",
   "execution_count": 42,
   "metadata": {},
   "outputs": [],
   "source": [
    "def error_column(row):\n",
    "    if(row['SeriousDlqin2yrs'] == 0 and row['prediction'] == 0):\n",
    "        error_value = 'TN'\n",
    "    if(row['SeriousDlqin2yrs'] == 1 and row['prediction'] == 0):\n",
    "        error_value = 'FN'\n",
    "    if(row['SeriousDlqin2yrs'] == 0 and row['prediction'] == 1):\n",
    "        error_value = 'FP'\n",
    "    if(row['SeriousDlqin2yrs'] == 1 and row['prediction'] == 1):\n",
    "        error_value = 'TP'\n",
    "    return error_value"
   ]
  },
  {
   "cell_type": "markdown",
   "metadata": {},
   "source": [
    "#### Fontion qui crée et définit la matrice des coûts"
   ]
  },
  {
   "cell_type": "code",
   "execution_count": 43,
   "metadata": {},
   "outputs": [],
   "source": [
    "def get_profits():\n",
    "    matrix = list(prediction.error.values)\n",
    "    val_tn = 500\n",
    "    val_fn = -2500\n",
    "    val_tp = 0\n",
    "    val_fp = -500\n",
    "    profits = matrix.count('TN') * val_tn + matrix.count('FN') * val_fn + matrix.count('TP') * val_tp + matrix.count('FP') * val_fp\n",
    "    return profits"
   ]
  },
  {
   "cell_type": "markdown",
   "metadata": {},
   "source": [
    "#### Fonction qui calcule les coûts de chaque ligne en fonction de sa classe dans la matrice de confusion "
   ]
  },
  {
   "cell_type": "code",
   "execution_count": 44,
   "metadata": {},
   "outputs": [],
   "source": [
    "def cost_threshold(threshold):\n",
    "    # Return True si 1 Proba > seuil & False si 1 Proba < seuil\n",
    "    prediction_threshold = prediction['1 probability'] > threshold\n",
    "    \n",
    "    P_pred = prediction_threshold # Renvoie True si 1 proba > seuil ( sinon False )\n",
    "    N_pred = ~prediction_threshold # Renvoie True si 1 proba < seuil ( sinon False )\n",
    "    \n",
    "    P_real = (prediction['SeriousDlqin2yrs'] == 1) # Renvoie True si SeriousDlqin2Yrs == 1 ( sinon False )\n",
    "    N_real = (prediction['SeriousDlqin2yrs'] == 0) # Renvoie True si SeriousDlqin2Yrs == 0 ( sinon False )\n",
    "    \n",
    "    # P_pred True si 1 proba > seuil Prediction =  1 , P_real True si Realite = 1 \n",
    "    TP = len(prediction.loc[P_pred & P_real])\n",
    "    # N_pred True = si 1 proba < seuil = Prediction = 0 , N_real True si Realité 0 \n",
    "    TN = len(prediction.loc[N_pred & N_real])\n",
    "    # P_pred True si 1 proba > seuil Prediction = 1 , N_real True si Réalite = 0\n",
    "    FP = len(prediction.loc[P_pred & N_real])\n",
    "    # N_pred True si 1 proba < seuil =  Prediction 0 , P_real True si Realité = 1\n",
    "    FN = len(prediction.loc[N_pred & P_real])\n",
    "    \n",
    "    TP_cost = 0\n",
    "    FN_cost = -2500\n",
    "    FP_cost = -500\n",
    "    TN_cost = 500\n",
    "    \n",
    "    cost = TP * TP_cost\n",
    "    cost += TN * TN_cost\n",
    "    cost += FP * FP_cost\n",
    "    cost += FN * FN_cost\n",
    "    \n",
    "    return cost"
   ]
  },
  {
   "cell_type": "markdown",
   "metadata": {},
   "source": [
    "#### A partir de là, on peut créer le graphique qui calcule le profit pour chaque seuil et sortir le seuil qui donne le profit optimal"
   ]
  },
  {
   "cell_type": "code",
   "execution_count": 45,
   "metadata": {},
   "outputs": [
    {
     "name": "stdout",
     "output_type": "stream",
     "text": [
      "gain max 10040500 $ | Seuil 0.27\n"
     ]
    },
    {
     "data": {
      "image/png": "[encoded data removed]",
      "text/plain": [
       "<Figure size 432x288 with 1 Axes>"
      ]
     },
     "metadata": {
      "needs_background": "light"
     },
     "output_type": "display_data"
    }
   ],
   "source": [
    "import matplotlib.pyplot as plt\n",
    "# on fait varier le seuil de 0 à 1000 / 1000 => 0.0001 , 0.0002 ... 1 dans la fonction seuil => gain\n",
    "table = [cost_threshold(n/1000) for n in range(0,1000)]\n",
    "plt.xlabel(\"seuil/1000\")\n",
    "plt.ylabel(\"Gains\")\n",
    "plt.title(\"GiveMeCredit - Kaggle\")\n",
    "\n",
    "plt.plot(table)\n",
    "\n",
    "max_val = max(table)\n",
    "max_threshold = table.index(max_val)/1000\n",
    "print(f'gain max {max_val} $ | Seuil {max_threshold}')"
   ]
  },
  {
   "cell_type": "markdown",
   "metadata": {},
   "source": [
    "## calcul de l'AUC : \n",
    "#### comparaison des 1 probability de chaque positif(output = 1) avec chaque négatif(output = 0)"
   ]
  },
  {
   "cell_type": "code",
   "execution_count": 49,
   "metadata": {},
   "outputs": [
    {
     "name": "stdout",
     "output_type": "stream",
     "text": [
      "0.8570815719693863\n"
     ]
    }
   ],
   "source": [
    "pos = prediction.loc[prediction['SeriousDlqin2yrs'] == 1] # Tout les Positif \n",
    "neg = prediction.loc[prediction['SeriousDlqin2yrs'] == 0] # Tout les negatifs \n",
    "x = 0\n",
    "y = 0\n",
    "# pour chaque 1 proba ( P ) dans toutes les 1 proba (P)\n",
    "for threshold_pos in pos['1 probability']:\n",
    "# pour chaque 1 Proba ( N ) dans toutes les 1 proba ( N )\n",
    "    for threshold_neg in neg['1 probability']:\n",
    "        if threshold_pos > threshold_neg:\n",
    "            x += 1 \n",
    "        y += 1 \n",
    "print(x/y)\n"
   ]
  },
  {
   "cell_type": "code",
   "execution_count": null,
   "metadata": {},
   "outputs": [],
   "source": []
  }
 ],
 "metadata": {
  "kernelspec": {
   "display_name": "Python 3",
   "language": "python",
   "name": "python3"
  },
  "language_info": {
   "codemirror_mode": {
    "name": "ipython",
    "version": 3
   },
   "file_extension": ".py",
   "mimetype": "text/x-python",
   "name": "python",
   "nbconvert_exporter": "python",
   "pygments_lexer": "ipython3",
   "version": "3.7.3"
  }
 },
 "nbformat": 4,
 "nbformat_minor": 2
}
