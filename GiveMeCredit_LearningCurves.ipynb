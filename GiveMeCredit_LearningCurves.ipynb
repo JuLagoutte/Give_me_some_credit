{
 "cells": [
  {
   "cell_type": "markdown",
   "metadata": {},
   "source": [
    "Importer librairies\n",
    "importer fichiers csv train.set et validation.set\n",
    "\n",
    "Créer source et dataset\n",
    "\n",
    "Splitter le train.set de 10% en 10% (0.1 0.2 0.3 0.4 0.5 0.6 0.7 0.8 0.9)\n",
    "entrainer le modèle sur ces train.set.splitter\n",
    "faire les prédictions avec le validation.set\n",
    "\n",
    "calculer accuracy et AUC pour tous ces cas"
   ]
  },
  {
   "cell_type": "code",
   "execution_count": 19,
   "metadata": {},
   "outputs": [],
   "source": [
    "from bigml.api import BigML\n",
    "from pandas import read_csv\n",
    "from sklearn.metrics import roc_auc_score\n",
    "import matplotlib.pyplot as plt\n",
    "import numpy as np\n",
    "import json\n",
    "\n",
    "# train_set = read_csv('csv_file/train_set.csv')\n",
    "# validation_set = read_csv('csv_file/validation_set.csv')\n",
    "\n",
    "api = BigML(project='project/5d94a454eba31d46690001d1')"
   ]
  },
  {
   "cell_type": "code",
   "execution_count": 4,
   "metadata": {},
   "outputs": [
    {
     "data": {
      "text/plain": [
       "True"
      ]
     },
     "execution_count": 4,
     "metadata": {},
     "output_type": "execute_result"
    }
   ],
   "source": [
    "#Train_set\n",
    "# Creation d'une source\n",
    "train_source = api.create_source('csv_file/train_set.csv')\n",
    "api.ok(train_source)\n",
    "# Creation d'un dataset ( = source )\n",
    "train_dataset = api.create_dataset(train_source)\n",
    "api.ok(train_dataset)"
   ]
  },
  {
   "cell_type": "code",
   "execution_count": 5,
   "metadata": {},
   "outputs": [
    {
     "data": {
      "text/plain": [
       "True"
      ]
     },
     "execution_count": 5,
     "metadata": {},
     "output_type": "execute_result"
    }
   ],
   "source": [
    "# Validation_set\n",
    "# Creation d'une source\n",
    "validation_source = api.create_source('csv_file/validation_set.csv')\n",
    "api.ok(validation_source)\n",
    "# Creation d'un dataset ( = source )\n",
    "validation_dataset = api.create_dataset(validation_source)\n",
    "api.ok(validation_dataset)"
   ]
  },
  {
   "cell_type": "code",
   "execution_count": 20,
   "metadata": {},
   "outputs": [],
   "source": [
    "def split_train(split_rate):\n",
    "    train_split_set = api.create_dataset(train_dataset,{\"name\": \"train_split_set\", \"sample_rate\": split_rate, \"seed\": \"my seed\"})\n",
    "    api.ok(train_split_set)\n",
    "    return train_split_set\n",
    "\n",
    "train_10 = split_train(10/100)\n",
    "train_20 = split_train(20/100)\n",
    "train_30 = split_train(30/100)\n",
    "train_40 = split_train(40/100)\n",
    "train_50 = split_train(50/100)\n",
    "train_60 = split_train(60/100)\n",
    "train_70 = split_train(70/100)\n",
    "train_80 = split_train(80/100)\n",
    "train_90 = split_train(90/100)\n",
    "train_100 = split_train(100/100)"
   ]
  },
  {
   "cell_type": "code",
   "execution_count": null,
   "metadata": {},
   "outputs": [],
   "source": [
    "def model_ensemble(dataset):\n",
    "    ensemble = api.create_ensemble(dataset,{\"objective_field\" : \"SeriousDlqin2yrs\"})\n",
    "    api.ok(ensemble)\n",
    "    return ensemble\n",
    "    \n",
    "ensemble_train_10 = model_ensemble(train_10)\n",
    "ensemble_train_20 = model_ensemble(train_20)\n",
    "ensemble_train_30 = model_ensemble(train_30)\n",
    "ensemble_train_40 = model_ensemble(train_40)\n",
    "ensemble_train_50 = model_ensemble(train_50)\n",
    "ensemble_train_60 = model_ensemble(train_60)\n",
    "ensemble_train_70 = model_ensemble(train_70)\n",
    "ensemble_train_80 = model_ensemble(train_80)\n",
    "ensemble_train_90 = model_ensemble(train_90)\n",
    "ensemble_train_100 = model_ensemble(train_100)"
   ]
  },
  {
   "cell_type": "code",
   "execution_count": null,
   "metadata": {},
   "outputs": [],
   "source": [
    "def model_deepnet(dataset):\n",
    "    deepnet = api.create_deepnet(dataset, {\"objective_field\" : \"SeriousDlqin2yrs\"})\n",
    "    api.ok(deepnet)\n",
    "    return deepnet\n",
    "\n",
    "deepnet_train_10 = model_deepnet(train_10)\n",
    "deepnet_train_20 = model_deepnet(train_20)\n",
    "deepnet_train_30 = model_deepnet(train_30)\n",
    "deepnet_train_40 = model_deepnet(train_40)\n",
    "deepnet_train_50 = model_deepnet(train_50)\n",
    "deepnet_train_60 = model_deepnet(train_60)\n",
    "deepnet_train_70 = model_deepnet(train_70)\n",
    "deepnet_train_80 = model_deepnet(train_80)\n",
    "deepnet_train_90 = model_deepnet(train_90)\n",
    "deepnet_train_100 = model_deepnet(train_100)"
   ]
  },
  {
   "cell_type": "code",
   "execution_count": null,
   "metadata": {},
   "outputs": [],
   "source": [
    "def batch_prediction(model, dataset):\n",
    "     batch_prediction = api.create_batch_prediction(model, dataset,{\"header\": True, \n",
    "                                                                    \"all_fields\": True, \n",
    "                                                                    \"prediction_name\": \"my_prediction\", \n",
    "                                                                    \"probabilities\": True})\n",
    "    api.ok(batch_prediction)\n",
    "    return batch_prediction"
   ]
  },
  {
   "cell_type": "code",
   "execution_count": null,
   "metadata": {},
   "outputs": [],
   "source": []
  },
  {
   "cell_type": "code",
   "execution_count": null,
   "metadata": {},
   "outputs": [],
   "source": [
    "def calcul_auc(file_csv):\n",
    "    actual = file_csv['SeriousDlqin2yrs']\n",
    "    scores = file_csv['1 probability']\n",
    "    auc = np.float64(roc_auc_score(actual, scores))\n",
    "    return np.float64(auc)\n",
    "\n"
   ]
  },
  {
   "cell_type": "code",
   "execution_count": null,
   "metadata": {},
   "outputs": [],
   "source": [
    "def create_plot(list1, list2, list3):\n",
    "    plt.xlabel(\"Taille Data en %\")\n",
    "    plt.ylabel(\"Performance : AUC\")\n",
    "    plt.title(\"GiveMeCredit - LearningCurves\")\n",
    "    plt.axhline(y=0.87)\n",
    "    plt.ylim(0.8,1)\n",
    "    plt.plot(list1, list2, label=)\n",
    "    plt.plot(list1, list3, label=)"
   ]
  },
  {
   "cell_type": "code",
   "execution_count": 22,
   "metadata": {},
   "outputs": [
    {
     "data": {
      "text/plain": [
       "[<matplotlib.lines.Line2D at 0x7f2ebdb887b8>]"
      ]
     },
     "execution_count": 22,
     "metadata": {},
     "output_type": "execute_result"
    },
    {
     "data": {
      "image/png": "[encoded data removed]",
      "text/plain": [
       "<Figure size 432x288 with 1 Axes>"
      ]
     },
     "metadata": {
      "needs_background": "light"
     },
     "output_type": "display_data"
    }
   ],
   "source": [
    "def calcul_auc(split_rate):    \n",
    "#     train_split_set = api.create_dataset(train_dataset,{\"name\": \"train_split_set\", \"sample_rate\": split_rate, \"seed\": \"my seed\"})\n",
    "#     api.ok(train_split_set)\n",
    "    \n",
    "#     ensemble = api.create_ensemble(train_split_set, {\"objective_field\" : \"SeriousDlqin2yrs\"})\n",
    "#     api.ok(ensemble)\n",
    "    \n",
    "#     batch_prediction_validation_set_split = api.create_batch_prediction(ensemble, validation_dataset,{\"header\": True, \n",
    "#                                                                                                             \"all_fields\": True,\n",
    "#                                                                                                             \"prediction_name\": \"my_prediction\", \n",
    "#                                                                                                             \"probabilities\": True})\n",
    "#     api.ok(batch_prediction_validation_set_split)\n",
    "    \n",
    "    api.download_batch_prediction(batch_prediction_validation_set_split,filename='BatchPrediction/Validation_set_pred_split.csv')\n",
    "    \n",
    "    pred_split = read_csv('BatchPrediction/Validation_set_pred_split.csv', index_col = 0)\n",
    "\n",
    "    actual = pred_split['SeriousDlqin2yrs']\n",
    "    scores = pred_split['1 probability']\n",
    "    auc = np.float64(roc_auc_score(actual, scores))\n",
    "\n",
    "    return np.float64(auc)\n",
    "\n",
    "table = [calcul_auc(n/10) for n in range(1,10)]\n",
    "\n",
    "plt.xlabel(\"taille data\")\n",
    "plt.ylabel(\"AUC\")\n",
    "plt.title(\"GiveMeCredit - Performance\")\n",
    "plt.axhline(y=0.87)\n",
    "plt.ylim(0.8,1)\n",
    "plt.plot(table)"
   ]
  },
  {
   "cell_type": "code",
   "execution_count": 6,
   "metadata": {},
   "outputs": [
    {
     "name": "stdout",
     "output_type": "stream",
     "text": [
      "0.8325178190549616\n",
      "0.8323794961054553\n",
      "0.8449961185339008\n",
      "0.8343984968906153\n",
      "0.850094445313889\n",
      "0.8376676090656506\n",
      "0.8525970976121113\n",
      "0.8413658681915295\n",
      "0.8519661498915361\n",
      "0.8420177860259241\n",
      "0.8535271687109941\n",
      "0.833905650448153\n",
      "0.8538284290015346\n",
      "0.8398904322636506\n",
      "0.8535400522523808\n",
      "0.8413518496926082\n",
      "0.8555772566923702\n",
      "0.8400786312766809\n",
      "0.855822744460321\n",
      "0.8361525737600477\n"
     ]
    },
    {
     "ename": "AttributeError",
     "evalue": "module 'matplotlib.pyplot' has no attribute 'axh'",
     "output_type": "error",
     "traceback": [
      "\u001b[0;31m---------------------------------------------------------------------------\u001b[0m",
      "\u001b[0;31mAttributeError\u001b[0m                            Traceback (most recent call last)",
      "\u001b[0;32m<ipython-input-6-211ffd2cc282>\u001b[0m in \u001b[0;36m<module>\u001b[0;34m\u001b[0m\n\u001b[1;32m     49\u001b[0m \u001b[0mplt\u001b[0m\u001b[0;34m.\u001b[0m\u001b[0mtitle\u001b[0m\u001b[0;34m(\u001b[0m\u001b[0;34m\"GiveMeCredit - Comparaison_models\"\u001b[0m\u001b[0;34m)\u001b[0m\u001b[0;34m\u001b[0m\u001b[0;34m\u001b[0m\u001b[0m\n\u001b[1;32m     50\u001b[0m \u001b[0mplt\u001b[0m\u001b[0;34m.\u001b[0m\u001b[0mylim\u001b[0m\u001b[0;34m(\u001b[0m\u001b[0;36m0.8\u001b[0m\u001b[0;34m,\u001b[0m\u001b[0;36m1\u001b[0m\u001b[0;34m)\u001b[0m\u001b[0;34m\u001b[0m\u001b[0;34m\u001b[0m\u001b[0m\n\u001b[0;32m---> 51\u001b[0;31m \u001b[0mplt\u001b[0m\u001b[0;34m.\u001b[0m\u001b[0maxh\u001b[0m\u001b[0;34m(\u001b[0m\u001b[0my\u001b[0m\u001b[0;34m=\u001b[0m\u001b[0;36m0.87\u001b[0m\u001b[0;34m)\u001b[0m\u001b[0;34m\u001b[0m\u001b[0;34m\u001b[0m\u001b[0m\n\u001b[0m\u001b[1;32m     52\u001b[0m \u001b[0mplt\u001b[0m\u001b[0;34m.\u001b[0m\u001b[0mplot\u001b[0m\u001b[0;34m(\u001b[0m\u001b[0mtable\u001b[0m\u001b[0;34m)\u001b[0m\u001b[0;34m\u001b[0m\u001b[0;34m\u001b[0m\u001b[0m\n",
      "\u001b[0;31mAttributeError\u001b[0m: module 'matplotlib.pyplot' has no attribute 'axh'"
     ]
    },
    {
     "data": {
      "image/png": "[encoded data removed]",
      "text/plain": [
       "<Figure size 432x288 with 1 Axes>"
      ]
     },
     "metadata": {
      "needs_background": "light"
     },
     "output_type": "display_data"
    }
   ],
   "source": [
    "def comparaison_models(split_rate):\n",
    "    train_split_set = api.create_dataset(train_dataset,{\"name\": \"train_split_set\", \"sample_rate\": split_rate, \"seed\": \"my seed\"})\n",
    "    api.ok(train_split_set)\n",
    "    \n",
    "    ensemble = api.create_ensemble(train_split_set, {\"objective_field\" : \"SeriousDlqin2yrs\"})\n",
    "    api.ok(ensemble)\n",
    "    \n",
    "    batch_prediction_val_set_split_ensemble = api.create_batch_prediction(ensemble, validation_dataset,{\"header\": True, \n",
    "                                                                                                        \"all_fields\": True,\n",
    "                                                                                                        \"prediction_name\": \"my_prediction\", \n",
    "                                                                                                        \"probabilities\": True})\n",
    "    api.ok(batch_prediction_val_set_split_ensemble)\n",
    "    \n",
    "    api.download_batch_prediction(batch_prediction_val_set_split_ensemble,filename='BatchPrediction/Val_set_pred_split_ensemble.csv')\n",
    "    \n",
    "    pred_split_ensemble = read_csv('BatchPrediction/Val_set_pred_split_ensemble.csv', index_col = 0)\n",
    "\n",
    "    actual_e = pred_split_ensemble['SeriousDlqin2yrs']\n",
    "    scores_e = pred_split_ensemble['1 probability']\n",
    "    auc_ensemble = np.float64(roc_auc_score(actual_e, scores_e))\n",
    "    print (auc_ensemble)\n",
    "    \n",
    "    \n",
    "    deepnet = api.create_deepnet(train_split_set, {\"objective_field\" : \"SeriousDlqin2yrs\"})\n",
    "    api.ok(deepnet)\n",
    "    \n",
    "    batch_prediction_val_set_split_deepnet = api.create_batch_prediction(deepnet, validation_dataset,{\"header\": True, \n",
    "                                                                                                      \"all_fields\": True,\n",
    "                                                                                                      \"prediction_name\": \"my_prediction\", \n",
    "                                                                                                      \"probabilities\": True})\n",
    "    api.ok(batch_prediction_val_set_split_deepnet)\n",
    "    \n",
    "    api.download_batch_prediction(batch_prediction_val_set_split_deepnet,filename='BatchPrediction/Val_set_pred_split_deepnet.csv')\n",
    "    \n",
    "    pred_split_deepnet = read_csv('BatchPrediction/Val_set_pred_split_deepnet.csv', index_col = 0)\n",
    "\n",
    "    actual_d = pred_split_deepnet['SeriousDlqin2yrs']\n",
    "    scores_d = pred_split_deepnet['1 probability']\n",
    "    auc_deepnet = np.float64(roc_auc_score(actual_d, scores_d))\n",
    "    print (auc_deepnet)\n",
    "    \n",
    "    return np.float64(auc_ensemble), np.float64(auc_deepnet)\n",
    "\n",
    "\n",
    "table = [comparaison_models(n/10) for n in range(1,11)]\n",
    "\n",
    "plt.xlabel(\"taille data\")\n",
    "plt.ylabel(\"AUC\")\n",
    "plt.title(\"GiveMeCredit - Comparaison_models\")\n",
    "plt.ylim(0.8,1)\n",
    "plt.axhline(y=0.87)\n",
    "plt.plot(table)"
   ]
  },
  {
   "cell_type": "code",
   "execution_count": null,
   "metadata": {},
   "outputs": [],
   "source": [
    "def train_vs_validation(split_rate):  \n",
    "    train_split_set = api.create_dataset(train_dataset,{\"name\": \"train_split_set\", \"sample_rate\": split_rate, \"seed\": \"my seed\"})\n",
    "    api.ok(train_split_set)\n",
    "    \n",
    "    ensemble = api.create_ensemble(train_split_set, {\"objective_field\" : \"SeriousDlqin2yrs\"})\n",
    "    api.ok(ensemble)\n",
    "    \n",
    "    batch_prediction_train_split_set_ensemble = api.create_batch_prediction(ensemble, train_split_set,{\"header\": True, \n",
    "                                                                                                       \"all_fields\": True,\n",
    "                                                                                                       \"prediction_name\": \"my_prediction\", \n",
    "                                                                                                       \"probabilities\": True})\n",
    "    api.ok(batch_prediction_train_split_set_ensemble)\n",
    "    \n",
    "    api.download_batch_prediction(batch_prediction_train_split_set_ensemble,filename='BatchPrediction/Train_split_set_pred_ensemble.csv')\n",
    "    \n",
    "    pred_ensemble_t = read_csv('BatchPrediction/Train_split_set_pred_ensemble.csv', index_col = 0)\n",
    "\n",
    "    actual_e_t = pred_ensemble_t['SeriousDlqin2yrs']\n",
    "    scores_e_t = pred_ensemble_t['1 probability']\n",
    "    auc_ensemble_t = np.float64(roc_auc_score(actual_e_t, scores_e_t))\n",
    "    print (auc_ensemble_t)\n",
    "    \n",
    "    batch_prediction_val_set_split_ensemble = api.create_batch_prediction(ensemble, validation_dataset,{\"header\": True, \n",
    "                                                                                                        \"all_fields\": True,\n",
    "                                                                                                        \"prediction_name\": \"my_prediction\", \n",
    "                                                                                                        \"probabilities\": True})\n",
    "    api.ok(batch_prediction_val_set_split_ensemble)\n",
    "    \n",
    "    api.download_batch_prediction(batch_prediction_val_set_split_ensemble,filename='BatchPrediction/Val_set_pred_split_ensemble.csv')\n",
    "    \n",
    "    pred_split_ensemble_v = read_csv('BatchPrediction/Val_set_pred_split_ensemble.csv', index_col = 0)\n",
    "\n",
    "    actual_e_v = pred_split_ensemble_v['SeriousDlqin2yrs']\n",
    "    scores_e_v = pred_split_ensemble_v['1 probability']\n",
    "    auc_ensemble_v = np.float64(roc_auc_score(actual_e_v, scores_e_v))\n",
    "    print (auc_ensemble_v)\n",
    "    \n",
    "    return np.float64(auc_ensemble_t), np.float64(auc_ensemble_v)\n",
    "\n",
    "\n",
    "table = [train_vs_validation(n/10) for n in range(1,11)]\n",
    "\n",
    "plt.xlabel(\"taille data\")\n",
    "plt.ylabel(\"AUC\")\n",
    "plt.title(\"GiveMeCredit - Train_vs_validation\")\n",
    "plt.ylim(0.8,1)\n",
    "plt.axhline(y=0.87)\n",
    "plt.plot(table)"
   ]
  },
  {
   "cell_type": "code",
   "execution_count": null,
   "metadata": {},
   "outputs": [],
   "source": [
    "def train_vs_validation_d(split_rate):\n",
    "    train_split_set = api.create_dataset(train_dataset,{\"name\": \"train_split_set\", \"sample_rate\": split_rate, \"seed\": \"my seed\"})\n",
    "    api.ok(train_split_set)\n",
    "    \n",
    "    deepnet = api.create_deepnet(train_split_set, {\"objective_field\" : \"SeriousDlqin2yrs\"})\n",
    "    api.ok(deepnet)\n",
    "    \n",
    "    batch_prediction_train_set_deepnet = api.create_batch_prediction(deepnet, train_split_set,{\"header\": True, \n",
    "                                                                                               \"all_fields\": True,\n",
    "                                                                                               \"prediction_name\": \"my_prediction\", \n",
    "                                                                                               \"probabilities\": True})\n",
    "    api.ok(batch_prediction_train_set_deepnet)\n",
    "    \n",
    "    api.download_batch_prediction(batch_prediction_train_set_deepnet,filename='BatchPrediction/Train_set_pred_deepnet.csv')\n",
    "    \n",
    "    pred_deepnet_t = read_csv('BatchPrediction/Train_set_pred_deepnet.csv', index_col = 0)\n",
    "\n",
    "    actual_d_t = pred_deepnet_t['SeriousDlqin2yrs']\n",
    "    scores_d_t = pred_deepnet_t['1 probability']\n",
    "    auc_deepnet_t = np.float64(roc_auc_score(actual_d_t, scores_d_t))\n",
    "    print (auc_deepnet_t)\n",
    "    \n",
    "    batch_prediction_val_set_split_deepnet = api.create_batch_prediction(deepnet, validation_dataset,{\"header\": True, \n",
    "                                                                                                      \"all_fields\": True,\n",
    "                                                                                                      \"prediction_name\": \"my_prediction\", \n",
    "                                                                                                      \"probabilities\": True})\n",
    "    api.ok(batch_prediction_val_set_split_deepnet)\n",
    "    \n",
    "    api.download_batch_prediction(batch_prediction_val_set_split_deepnet,filename='BatchPrediction/Val_set_pred_split_deepnet.csv')\n",
    "    \n",
    "    pred_split_deepnet_v = read_csv('BatchPrediction/Val_set_pred_split_deepnet.csv', index_col = 0)\n",
    "\n",
    "    actual_d_v = pred_split_deepnet_v['SeriousDlqin2yrs']\n",
    "    scores_d_v = pred_split_deepnet_v['1 probability']\n",
    "    auc_deepnet_v = np.float64(roc_auc_score(actual_d_v, scores_d_v))\n",
    "    print (auc_deepnet_v)\n",
    "    \n",
    "    return np.float64(auc_deepnet_t), np.float64(auc_deepnet_v)\n",
    "\n",
    "\n",
    "table = [train_vs_validation_d(n/10) for n in range(1,11)]\n",
    "\n",
    "plt.xlabel(\"taille data\")\n",
    "plt.ylabel(\"AUC\")\n",
    "plt.title(\"GiveMeCredit - Train_vs_validation\")\n",
    "plt.ylim(0.8,1)\n",
    "plt.axhline(y=0.87)\n",
    "plt.plot(table)"
   ]
  },
  {
   "cell_type": "code",
   "execution_count": null,
   "metadata": {},
   "outputs": [],
   "source": []
  }
 ],
 "metadata": {
  "kernelspec": {
   "display_name": "Python 3",
   "language": "python",
   "name": "python3"
  },
  "language_info": {
   "codemirror_mode": {
    "name": "ipython",
    "version": 3
   },
   "file_extension": ".py",
   "mimetype": "text/x-python",
   "name": "python",
   "nbconvert_exporter": "python",
   "pygments_lexer": "ipython3",
   "version": "3.7.3"
  }
 },
 "nbformat": 4,
 "nbformat_minor": 2
}
