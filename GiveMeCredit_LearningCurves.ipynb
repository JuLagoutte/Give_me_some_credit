{
 "cells": [
  {
   "cell_type": "markdown",
   "metadata": {},
   "source": [
    "Importer librairies\n",
    "importer fichiers csv train.set et validation.set\n",
    "\n",
    "Créer source et dataset\n",
    "\n",
    "Splitter le train.set de 10% en 10% (0.1 0.2 0.3 0.4 0.5 0.6 0.7 0.8 0.9)\n",
    "entrainer le modèle sur ces train.set.splitter\n",
    "faire les prédictions avec le validation.set\n",
    "\n",
    "calculer accuracy et AUC pour tous ces cas"
   ]
  },
  {
   "cell_type": "code",
   "execution_count": 14,
   "metadata": {},
   "outputs": [],
   "source": [
    "from bigml.api import BigML\n",
    "from pandas import read_csv\n",
    "from sklearn.metrics import roc_auc_score\n",
    "\n",
    "# train_set = read_csv('csv_file/train_set.csv')\n",
    "# validation_set = read_csv('csv_file/validation_set.csv')\n",
    "\n",
    "api = BigML(project='project/5d94a454eba31d46690001d1')"
   ]
  },
  {
   "cell_type": "code",
   "execution_count": 15,
   "metadata": {},
   "outputs": [
    {
     "data": {
      "text/plain": [
       "True"
      ]
     },
     "execution_count": 15,
     "metadata": {},
     "output_type": "execute_result"
    }
   ],
   "source": [
    "#Train_set\n",
    "# Creation d'une source\n",
    "train_source = api.create_source('csv_file/train_set.csv')\n",
    "api.ok(train_source)\n",
    "# Creation d'un dataset ( = source )\n",
    "train_dataset = api.create_dataset(train_source)\n",
    "api.ok(train_dataset)"
   ]
  },
  {
   "cell_type": "code",
   "execution_count": 16,
   "metadata": {},
   "outputs": [
    {
     "data": {
      "text/plain": [
       "True"
      ]
     },
     "execution_count": 16,
     "metadata": {},
     "output_type": "execute_result"
    }
   ],
   "source": [
    "# Validation_set\n",
    "# Creation d'une source\n",
    "validation_source = api.create_source('csv_file/validation_set.csv')\n",
    "api.ok(validation_source)\n",
    "# Creation d'un dataset ( = source )\n",
    "validation_dataset = api.create_dataset(validation_source)\n",
    "api.ok(validation_dataset)"
   ]
  },
  {
   "cell_type": "code",
   "execution_count": 22,
   "metadata": {},
   "outputs": [
    {
     "data": {
      "text/plain": [
       "[<matplotlib.lines.Line2D at 0x7f2ebdb887b8>]"
      ]
     },
     "execution_count": 22,
     "metadata": {},
     "output_type": "execute_result"
    },
    {
     "data": {
      "image/png": "[encoded data removed]",
      "text/plain": [
       "<Figure size 432x288 with 1 Axes>"
      ]
     },
     "metadata": {
      "needs_background": "light"
     },
     "output_type": "display_data"
    }
   ],
   "source": [
    "def calcul_auc(split_rate):\n",
    "    from bigml.api import BigML\n",
    "    from pandas import read_csv\n",
    "    from sklearn.metrics import roc_auc_score\n",
    "    import json\n",
    "    \n",
    "    train_split_set = api.create_dataset(train_dataset,{\"name\": \"train_split_set\", \"sample_rate\": split_rate, \"seed\": \"my seed\"})\n",
    "    api.ok(train_split_set)\n",
    "    \n",
    "    ensemble = api.create_ensemble(train_split_set, {\"objective_field\" : \"SeriousDlqin2yrs\"})\n",
    "    api.ok(ensemble)\n",
    "    \n",
    "    batch_prediction_validation_set_split = api.create_batch_prediction(ensemble, validation_dataset,{\"header\": True, \n",
    "                                                                                                            \"all_fields\": True,\n",
    "                                                                                                            \"prediction_name\": \"my_prediction\", \n",
    "                                                                                                            \"probabilities\": True})\n",
    "    api.ok(batch_prediction_validation_set_split)\n",
    "    \n",
    "    api.download_batch_prediction(batch_prediction_validation_set_split,filename='BatchPrediction/Validation_set_pred_split.csv')\n",
    "    \n",
    "    pred_split = read_csv('BatchPrediction/Validation_set_pred_split.csv', index_col = 0)\n",
    "\n",
    "    actual = pred_split['SeriousDlqin2yrs']\n",
    "    scores = pred_split['1 probability']\n",
    "    auc = np.float64(roc_auc_score(actual, scores))\n",
    "\n",
    "    return np.float64(auc)\n",
    "\n",
    "\n",
    "import matplotlib.pyplot as plt\n",
    "import numpy as np\n",
    "\n",
    "table = [calcul_auc(n/10) for n in range(1,10)]\n",
    "plt.xlabel(\"taille data\")\n",
    "plt.ylabel(\"AUC\")\n",
    "plt.title(\"GiveMeCredit - Performance\")\n",
    "plt.plot(table)"
   ]
  },
  {
   "cell_type": "code",
   "execution_count": null,
   "metadata": {},
   "outputs": [],
   "source": []
  }
 ],
 "metadata": {
  "kernelspec": {
   "display_name": "Python 3",
   "language": "python",
   "name": "python3"
  },
  "language_info": {
   "codemirror_mode": {
    "name": "ipython",
    "version": 3
   },
   "file_extension": ".py",
   "mimetype": "text/x-python",
   "name": "python",
   "nbconvert_exporter": "python",
   "pygments_lexer": "ipython3",
   "version": "3.7.3"
  }
 },
 "nbformat": 4,
 "nbformat_minor": 2
}
