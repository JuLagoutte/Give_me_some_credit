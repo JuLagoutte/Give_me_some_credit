{
 "cells": [
  {
   "cell_type": "code",
   "execution_count": 1,
   "metadata": {},
   "outputs": [],
   "source": [
    "# class New_input :\n",
    "    \n",
    "def change_dataset(dataframe):\n",
    "    dataframe['IncomePerPerson'] = dataframe['MonthlyIncome'] / ( dataframe['NumberOfDependents'] + 1 )\n",
    "    dataframe.loc[dataframe.age > 80, 'isOld'] = '1' \n",
    "    dataframe.loc[dataframe.age <= 80, 'isOld'] = '0'\n",
    "    dataframe['MonthlyDebt'] = dataframe['MonthlyIncome'] * dataframe['DebtRatio']\n",
    "    dataframe['MonthlyBalance'] = dataframe['MonthlyIncome'] - dataframe['MonthlyDebt']\n",
    "    dataframe['DebtPerPerson'] = dataframe['MonthlyDebt'] / ( dataframe['NumberOfDependents'] + 1 )\n",
    "    dataframe['BalancePerPerson'] = dataframe['MonthlyBalance'] / ( dataframe['NumberOfDependents'] + 1 )\n",
    "    dataframe['NumberOfTime30-89DaysPastDueNotWorse'] = dataframe['NumberOfTime30-59DaysPastDueNotWorse'] + dataframe['NumberOfTime60-89DaysPastDueNotWorse']\n",
    "    dataframe['NumbersOfOpen-NumberRealEstate'] = dataframe['NumberOfOpenCreditLinesAndLoans'] - dataframe['NumberRealEstateLoansOrLines']\n",
    "    dataframe = dataframe.fillna(0)\n",
    "    dataframe.index.names = ['Id']\n",
    "    return dataframe"
   ]
  },
  {
   "cell_type": "code",
   "execution_count": null,
   "metadata": {},
   "outputs": [],
   "source": []
  }
 ],
 "metadata": {
  "kernelspec": {
   "display_name": "Python 3",
   "language": "python",
   "name": "python3"
  },
  "language_info": {
   "codemirror_mode": {
    "name": "ipython",
    "version": 3
   },
   "file_extension": ".py",
   "mimetype": "text/x-python",
   "name": "python",
   "nbconvert_exporter": "python",
   "pygments_lexer": "ipython3",
   "version": "3.7.3"
  }
 },
 "nbformat": 4,
 "nbformat_minor": 2
}
