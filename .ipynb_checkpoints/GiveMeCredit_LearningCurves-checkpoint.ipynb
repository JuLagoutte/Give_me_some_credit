{
 "cells": [
  {
   "cell_type": "markdown",
   "metadata": {},
   "source": [
    "### Objectifs du notebook :\n",
    "\n",
    "- Importer librairies\n",
    "- importer fichiers csv train.set et validation.set\n",
    "\n",
    "- Créer source et dataset\n",
    "\n",
    "- Splitter le train.set de 10% en 10% (0.1 0.2 0.3 0.4 0.5 0.6 0.7 0.8 0.9)\n",
    "- entrainer le modèle sur ces train.set.splitter\n",
    "- faire les prédictions avec le validation.set et le train.set.splitter\n",
    "\n",
    "- calculer AUC pour tous ces cas\n",
    "\n",
    "- Dessiner les graphs montrant l'évolution de la performance en fonction de la taille du train_set"
   ]
  },
  {
   "cell_type": "markdown",
   "metadata": {},
   "source": [
    "## Importation des librairies et du code du project pour l'API BigML"
   ]
  },
  {
   "cell_type": "code",
   "execution_count": 5,
   "metadata": {},
   "outputs": [],
   "source": [
    "from bigml.api import BigML\n",
    "from pandas import read_csv\n",
    "from sklearn.metrics import roc_auc_score\n",
    "import matplotlib.pyplot as plt\n",
    "import numpy as np\n",
    "import json\n",
    "\n",
    "# train_set = read_csv('csv_file/train_set.csv')\n",
    "# validation_set = read_csv('csv_file/validation_set.csv')\n",
    "\n",
    "api = BigML(project='project/5d94a454eba31d46690001d1')"
   ]
  },
  {
   "cell_type": "markdown",
   "metadata": {},
   "source": [
    "### Création des sources et des datasets sur BigMl via l'API"
   ]
  },
  {
   "cell_type": "code",
   "execution_count": 8,
   "metadata": {},
   "outputs": [
    {
     "data": {
      "text/plain": [
       "True"
      ]
     },
     "execution_count": 8,
     "metadata": {},
     "output_type": "execute_result"
    }
   ],
   "source": [
    "#Train_set\n",
    "# Creation d'une source\n",
    "train_source = api.create_source('csv_file/train_set.csv')\n",
    "api.ok(train_source)\n",
    "# Creation d'un dataset ( = source )\n",
    "train_dataset = api.create_dataset(train_source)\n",
    "api.ok(train_dataset)"
   ]
  },
  {
   "cell_type": "code",
   "execution_count": 9,
   "metadata": {},
   "outputs": [
    {
     "data": {
      "text/plain": [
       "True"
      ]
     },
     "execution_count": 9,
     "metadata": {},
     "output_type": "execute_result"
    }
   ],
   "source": [
    "# Validation_set\n",
    "# Creation d'une source\n",
    "validation_source = api.create_source('csv_file/validation_set.csv')\n",
    "api.ok(validation_source)\n",
    "# Creation d'un dataset ( = source )\n",
    "validation_dataset = api.create_dataset(validation_source)\n",
    "api.ok(validation_dataset)"
   ]
  },
  {
   "cell_type": "markdown",
   "metadata": {},
   "source": [
    "### Méthode pour faire le split du train_set \n",
    "\n",
    "- en fonction du pourcentage du train_set souhaité"
   ]
  },
  {
   "cell_type": "code",
   "execution_count": 10,
   "metadata": {},
   "outputs": [],
   "source": [
    "def split_train(split_rate):\n",
    "    train_split_set = api.create_dataset(train_dataset,{\"name\": \"train_split_set\", \"sample_rate\": split_rate, \"seed\": 42})\n",
    "    api.ok(train_split_set)\n",
    "    return train_split_set\n",
    "\n",
    "train_10 = split_train(10/100)\n",
    "train_20 = split_train(20/100)\n",
    "train_30 = split_train(30/100)\n",
    "train_40 = split_train(40/100)\n",
    "train_50 = split_train(50/100)\n",
    "train_60 = split_train(60/100)\n",
    "train_70 = split_train(70/100)\n",
    "train_80 = split_train(80/100)\n",
    "train_90 = split_train(90/100)\n",
    "train_100 = split_train(100/100)"
   ]
  },
  {
   "cell_type": "markdown",
   "metadata": {},
   "source": [
    "### Méthodes pour entraîner des datasets sur un modèle choisi :"
   ]
  },
  {
   "cell_type": "code",
   "execution_count": 11,
   "metadata": {},
   "outputs": [],
   "source": [
    "def model_ensemble(dataset):\n",
    "    ensemble = api.create_ensemble(dataset,{\"objective_field\" : \"SeriousDlqin2yrs\"})\n",
    "    api.ok(ensemble)\n",
    "    return ensemble\n",
    "    \n",
    "ensemble_train_10 = model_ensemble(train_10)\n",
    "ensemble_train_20 = model_ensemble(train_20)\n",
    "ensemble_train_30 = model_ensemble(train_30)\n",
    "ensemble_train_40 = model_ensemble(train_40)\n",
    "ensemble_train_50 = model_ensemble(train_50)\n",
    "ensemble_train_60 = model_ensemble(train_60)\n",
    "ensemble_train_70 = model_ensemble(train_70)\n",
    "ensemble_train_80 = model_ensemble(train_80)\n",
    "ensemble_train_90 = model_ensemble(train_90)\n",
    "ensemble_train_100 = model_ensemble(train_100)"
   ]
  },
  {
   "cell_type": "code",
   "execution_count": 12,
   "metadata": {},
   "outputs": [],
   "source": [
    "def model_deepnet(dataset):\n",
    "    deepnet = api.create_deepnet(dataset, {\"objective_field\" : \"SeriousDlqin2yrs\"})\n",
    "    api.ok(deepnet)\n",
    "    return deepnet\n",
    "\n",
    "deepnet_train_10 = model_deepnet(train_10)\n",
    "deepnet_train_20 = model_deepnet(train_20)\n",
    "deepnet_train_30 = model_deepnet(train_30)\n",
    "deepnet_train_40 = model_deepnet(train_40)\n",
    "deepnet_train_50 = model_deepnet(train_50)\n",
    "deepnet_train_60 = model_deepnet(train_60)\n",
    "deepnet_train_70 = model_deepnet(train_70)\n",
    "deepnet_train_80 = model_deepnet(train_80)\n",
    "deepnet_train_90 = model_deepnet(train_90)\n",
    "deepnet_train_100 = model_deepnet(train_100)"
   ]
  },
  {
   "cell_type": "markdown",
   "metadata": {},
   "source": [
    "### Méthode pour faire les prédictions d'un modèle entraîné sur un dataset\n",
    "\n",
    "- en fonction d'un modèle et d'un dataset choisis"
   ]
  },
  {
   "cell_type": "code",
   "execution_count": 16,
   "metadata": {},
   "outputs": [],
   "source": [
    "def batchprediction(model, dataset):\n",
    "    batch_prediction = api.create_batch_prediction(model, dataset,{\"header\": True, \n",
    "                                                                    \"all_fields\": True, \n",
    "                                                                    \"prediction_name\": \"my_prediction\", \n",
    "                                                                    \"probabilities\": True})\n",
    "    api.ok(batch_prediction)\n",
    "    return batch_prediction"
   ]
  },
  {
   "cell_type": "markdown",
   "metadata": {},
   "source": [
    "## On fait toutes les prédictions souhaitées :\n",
    "\n",
    "- sur tous les train_set créés avec le splits\n",
    "- sur le validation_set\n",
    "- avec les 2 modèles ensemble et deepnet"
   ]
  },
  {
   "cell_type": "code",
   "execution_count": 17,
   "metadata": {},
   "outputs": [
    {
     "name": "stderr",
     "output_type": "stream",
     "text": [
      "Unexpected error (504)\n"
     ]
    },
    {
     "name": "stdout",
     "output_type": "stream",
     "text": [
      "2019-11-05 19:40:07,950: Unexpected error (504)\n"
     ]
    },
    {
     "data": {
      "text/plain": [
       "'BatchPrediction/train10_dn_train10.csv'"
      ]
     },
     "execution_count": 17,
     "metadata": {},
     "output_type": "execute_result"
    }
   ],
   "source": [
    "batch_prediction_ens_val_10 = batchprediction(ensemble_train_10, validation_dataset)\n",
    "api.download_batch_prediction(batch_prediction_ens_val_10,filename='BatchPrediction/train10_ens_val_set.csv')\n",
    "\n",
    "batch_prediction_dn_val_10 = batchprediction(deepnet_train_10, validation_dataset)\n",
    "api.download_batch_prediction(batch_prediction_dn_val_10,filename='BatchPrediction/train10_dn_val_set.csv')\n",
    "\n",
    "batch_prediction_ens_train_10 = batchprediction(ensemble_train_10, train_10)\n",
    "api.download_batch_prediction(batch_prediction_ens_train_10,filename='BatchPrediction/train10_ens_train10.csv')\n",
    "\n",
    "batch_prediction_dn_train_10 = batchprediction(deepnet_train_10, train_10)\n",
    "api.download_batch_prediction(batch_prediction_dn_train_10,filename='BatchPrediction/train10_dn_train10.csv')\n"
   ]
  },
  {
   "cell_type": "code",
   "execution_count": 19,
   "metadata": {},
   "outputs": [
    {
     "data": {
      "text/plain": [
       "'BatchPrediction/train20_dn_train20.csv'"
      ]
     },
     "execution_count": 19,
     "metadata": {},
     "output_type": "execute_result"
    }
   ],
   "source": [
    "batch_prediction_ens_val_20 = batchprediction(ensemble_train_20, validation_dataset)\n",
    "api.download_batch_prediction(batch_prediction_ens_val_20,filename='BatchPrediction/train20_ens_val_set.csv')\n",
    "batch_prediction_dn_val_20 = batchprediction(deepnet_train_20, validation_dataset)\n",
    "api.download_batch_prediction(batch_prediction_dn_val_20,filename='BatchPrediction/train20_dn_val_set.csv')\n",
    "\n",
    "batch_prediction_ens_train_20 = batchprediction(ensemble_train_20, train_20)\n",
    "api.download_batch_prediction(batch_prediction_ens_train_20,filename='BatchPrediction/train20_ens_train20.csv')\n",
    "batch_prediction_dn_train_20 = batchprediction(deepnet_train_20, train_20)\n",
    "api.download_batch_prediction(batch_prediction_dn_train_20,filename='BatchPrediction/train20_dn_train20.csv')"
   ]
  },
  {
   "cell_type": "code",
   "execution_count": 20,
   "metadata": {},
   "outputs": [
    {
     "data": {
      "text/plain": [
       "'BatchPrediction/train30_dn_train30.csv'"
      ]
     },
     "execution_count": 20,
     "metadata": {},
     "output_type": "execute_result"
    }
   ],
   "source": [
    "batch_prediction_ens_val_30 = batchprediction(ensemble_train_30, validation_dataset)\n",
    "api.download_batch_prediction(batch_prediction_ens_val_30,filename='BatchPrediction/train30_ens_val_set.csv')\n",
    "batch_prediction_dn_val_30 = batchprediction(deepnet_train_30, validation_dataset)\n",
    "api.download_batch_prediction(batch_prediction_dn_val_30,filename='BatchPrediction/train30_dn_val_set.csv')\n",
    "\n",
    "batch_prediction_ens_train_30 = batchprediction(ensemble_train_30, train_30)\n",
    "api.download_batch_prediction(batch_prediction_ens_train_30,filename='BatchPrediction/train30_ens_train30.csv')\n",
    "batch_prediction_dn_train_30 = batchprediction(deepnet_train_30, train_30)\n",
    "api.download_batch_prediction(batch_prediction_dn_train_30,filename='BatchPrediction/train30_dn_train30.csv')"
   ]
  },
  {
   "cell_type": "code",
   "execution_count": 21,
   "metadata": {},
   "outputs": [
    {
     "data": {
      "text/plain": [
       "'BatchPrediction/train40_dn_train40.csv'"
      ]
     },
     "execution_count": 21,
     "metadata": {},
     "output_type": "execute_result"
    }
   ],
   "source": [
    "batch_prediction_ens_val_40 = batchprediction(ensemble_train_40, validation_dataset)\n",
    "api.download_batch_prediction(batch_prediction_ens_val_40,filename='BatchPrediction/train40_ens_val_set.csv')\n",
    "batch_prediction_dn_val_40 = batchprediction(deepnet_train_40, validation_dataset)\n",
    "api.download_batch_prediction(batch_prediction_dn_val_40,filename='BatchPrediction/train40_dn_val_set.csv')\n",
    "\n",
    "batch_prediction_ens_train_40 = batchprediction(ensemble_train_40, train_40)\n",
    "api.download_batch_prediction(batch_prediction_ens_train_40,filename='BatchPrediction/train40_ens_train40.csv')\n",
    "batch_prediction_dn_train_40 = batchprediction(deepnet_train_40, train_40)\n",
    "api.download_batch_prediction(batch_prediction_dn_train_40,filename='BatchPrediction/train40_dn_train40.csv')"
   ]
  },
  {
   "cell_type": "code",
   "execution_count": 22,
   "metadata": {},
   "outputs": [
    {
     "data": {
      "text/plain": [
       "'BatchPrediction/train50_dn_train50.csv'"
      ]
     },
     "execution_count": 22,
     "metadata": {},
     "output_type": "execute_result"
    }
   ],
   "source": [
    "batch_prediction_ens_val_50 = batchprediction(ensemble_train_50, validation_dataset)\n",
    "api.download_batch_prediction(batch_prediction_ens_val_50,filename='BatchPrediction/train50_ens_val_set.csv')\n",
    "batch_prediction_dn_val_50 = batchprediction(deepnet_train_50, validation_dataset)\n",
    "api.download_batch_prediction(batch_prediction_dn_val_50,filename='BatchPrediction/train50_dn_val_set.csv')\n",
    "\n",
    "batch_prediction_ens_train_50 = batchprediction(ensemble_train_50, train_50)\n",
    "api.download_batch_prediction(batch_prediction_ens_train_50,filename='BatchPrediction/train50_ens_train50.csv')\n",
    "batch_prediction_dn_train_50 = batchprediction(deepnet_train_50, train_50)\n",
    "api.download_batch_prediction(batch_prediction_dn_train_50,filename='BatchPrediction/train50_dn_train50.csv')"
   ]
  },
  {
   "cell_type": "code",
   "execution_count": 23,
   "metadata": {},
   "outputs": [
    {
     "data": {
      "text/plain": [
       "'BatchPrediction/train60_dn_train60.csv'"
      ]
     },
     "execution_count": 23,
     "metadata": {},
     "output_type": "execute_result"
    }
   ],
   "source": [
    "batch_prediction_ens_val_60 = batchprediction(ensemble_train_60, validation_dataset)\n",
    "api.download_batch_prediction(batch_prediction_ens_val_60,filename='BatchPrediction/train60_ens_val_set.csv')\n",
    "batch_prediction_dn_val_60 = batchprediction(deepnet_train_60, validation_dataset)\n",
    "api.download_batch_prediction(batch_prediction_dn_val_60,filename='BatchPrediction/train60_dn_val_set.csv')\n",
    "\n",
    "batch_prediction_ens_train_60 = batchprediction(ensemble_train_60, train_60)\n",
    "api.download_batch_prediction(batch_prediction_ens_train_60,filename='BatchPrediction/train60_ens_train60.csv')\n",
    "batch_prediction_dn_train_60 = batchprediction(deepnet_train_60, train_60)\n",
    "api.download_batch_prediction(batch_prediction_dn_train_60,filename='BatchPrediction/train60_dn_train60.csv')"
   ]
  },
  {
   "cell_type": "code",
   "execution_count": 24,
   "metadata": {},
   "outputs": [
    {
     "data": {
      "text/plain": [
       "'BatchPrediction/train70_dn_train70.csv'"
      ]
     },
     "execution_count": 24,
     "metadata": {},
     "output_type": "execute_result"
    }
   ],
   "source": [
    "batch_prediction_ens_val_70 = batchprediction(ensemble_train_70, validation_dataset)\n",
    "api.download_batch_prediction(batch_prediction_ens_val_70,filename='BatchPrediction/train70_ens_val_set.csv')\n",
    "batch_prediction_dn_val_70 = batchprediction(deepnet_train_70, validation_dataset)\n",
    "api.download_batch_prediction(batch_prediction_dn_val_70,filename='BatchPrediction/train70_dn_val_set.csv')\n",
    "\n",
    "batch_prediction_ens_train_70 = batchprediction(ensemble_train_70, train_70)\n",
    "api.download_batch_prediction(batch_prediction_ens_train_70,filename='BatchPrediction/train70_ens_train70.csv')\n",
    "batch_prediction_dn_train_70 = batchprediction(deepnet_train_70, train_70)\n",
    "api.download_batch_prediction(batch_prediction_dn_train_70,filename='BatchPrediction/train70_dn_train70.csv')"
   ]
  },
  {
   "cell_type": "code",
   "execution_count": 25,
   "metadata": {},
   "outputs": [
    {
     "data": {
      "text/plain": [
       "'BatchPrediction/train80_dn_train80.csv'"
      ]
     },
     "execution_count": 25,
     "metadata": {},
     "output_type": "execute_result"
    }
   ],
   "source": [
    "batch_prediction_ens_val_80 = batchprediction(ensemble_train_80, validation_dataset)\n",
    "api.download_batch_prediction(batch_prediction_ens_val_80,filename='BatchPrediction/train80_ens_val_set.csv')\n",
    "batch_prediction_dn_val_80 = batchprediction(deepnet_train_80, validation_dataset)\n",
    "api.download_batch_prediction(batch_prediction_dn_val_80,filename='BatchPrediction/train80_dn_val_set.csv')\n",
    "\n",
    "batch_prediction_ens_train_80 = batchprediction(ensemble_train_80, train_80)\n",
    "api.download_batch_prediction(batch_prediction_ens_train_80,filename='BatchPrediction/train80_ens_train80.csv')\n",
    "batch_prediction_dn_train_80 = batchprediction(deepnet_train_80, train_80)\n",
    "api.download_batch_prediction(batch_prediction_dn_train_80,filename='BatchPrediction/train80_dn_train80.csv')"
   ]
  },
  {
   "cell_type": "code",
   "execution_count": 26,
   "metadata": {},
   "outputs": [
    {
     "data": {
      "text/plain": [
       "'BatchPrediction/train90_dn_train90.csv'"
      ]
     },
     "execution_count": 26,
     "metadata": {},
     "output_type": "execute_result"
    }
   ],
   "source": [
    "batch_prediction_ens_val_90 = batchprediction(ensemble_train_90, validation_dataset)\n",
    "api.download_batch_prediction(batch_prediction_ens_val_90,filename='BatchPrediction/train90_ens_val_set.csv')\n",
    "batch_prediction_dn_val_90 = batchprediction(deepnet_train_90, validation_dataset)\n",
    "api.download_batch_prediction(batch_prediction_dn_val_90,filename='BatchPrediction/train90_dn_val_set.csv')\n",
    "\n",
    "batch_prediction_ens_train_90 = batchprediction(ensemble_train_90, train_90)\n",
    "api.download_batch_prediction(batch_prediction_ens_train_90,filename='BatchPrediction/train90_ens_train90.csv')\n",
    "batch_prediction_dn_train_90 = batchprediction(deepnet_train_90, train_90)\n",
    "api.download_batch_prediction(batch_prediction_dn_train_90,filename='BatchPrediction/train90_dn_train90.csv')"
   ]
  },
  {
   "cell_type": "code",
   "execution_count": 27,
   "metadata": {},
   "outputs": [
    {
     "data": {
      "text/plain": [
       "'BatchPrediction/train100_dn_train100.csv'"
      ]
     },
     "execution_count": 27,
     "metadata": {},
     "output_type": "execute_result"
    }
   ],
   "source": [
    "batch_prediction_ens_val_100 = batchprediction(ensemble_train_100, validation_dataset)\n",
    "api.download_batch_prediction(batch_prediction_ens_val_100,filename='BatchPrediction/train100_ens_val_set.csv')\n",
    "batch_prediction_dn_val_100 = batchprediction(deepnet_train_100, validation_dataset)\n",
    "api.download_batch_prediction(batch_prediction_dn_val_100,filename='BatchPrediction/train100_dn_val_set.csv')\n",
    "\n",
    "batch_prediction_ens_train_100 = batchprediction(ensemble_train_100, train_100)\n",
    "api.download_batch_prediction(batch_prediction_ens_train_100,filename='BatchPrediction/train100_ens_train100.csv')\n",
    "batch_prediction_dn_train_100 = batchprediction(deepnet_train_100, train_100)\n",
    "api.download_batch_prediction(batch_prediction_dn_train_100,filename='BatchPrediction/train100_dn_train100.csv')"
   ]
  },
  {
   "cell_type": "markdown",
   "metadata": {},
   "source": [
    "## Important, toutes les prédictions ont été téléchargées en fichier csv\n",
    "\n",
    "##### Cela va permettre de gagner du temps une fois toutes les étapes précédentes faites\n",
    "##### On peut réutiliser les fichiers csv pour générer de nouvelles courbes ou autre chose "
   ]
  },
  {
   "cell_type": "markdown",
   "metadata": {},
   "source": [
    "### Méthode pour calculer l'AUC pour un fichier csv, pour une prédiction"
   ]
  },
  {
   "cell_type": "code",
   "execution_count": 6,
   "metadata": {},
   "outputs": [],
   "source": [
    "def calcul_auc(file_csv):\n",
    "    actual = file_csv['SeriousDlqin2yrs']\n",
    "    scores = file_csv['1 probability']\n",
    "    auc = np.float64(roc_auc_score(actual, scores))\n",
    "    return np.float64(auc)"
   ]
  },
  {
   "cell_type": "markdown",
   "metadata": {},
   "source": [
    "## Création des listes qui serviront pour les graphiques"
   ]
  },
  {
   "cell_type": "markdown",
   "metadata": {},
   "source": [
    "#### Liste des AUC de toutes les prédictions sur le validation_set \n",
    "- avec modèle ensemble"
   ]
  },
  {
   "cell_type": "code",
   "execution_count": 7,
   "metadata": {},
   "outputs": [
    {
     "name": "stdout",
     "output_type": "stream",
     "text": [
      "[0.8309745339469787, 0.8424774349605049, 0.8508779029531507, 0.8522589423348471, 0.8539130631395497, 0.8543708943687043, 0.8548274753712, 0.8548022935009051, 0.855834501911029, 0.8542625325247353]\n"
     ]
    }
   ],
   "source": [
    "train10_ens_val_set = read_csv('BatchPrediction/train10_ens_val_set.csv', index_col = 0)\n",
    "train20_ens_val_set = read_csv('BatchPrediction/train20_ens_val_set.csv', index_col = 0)\n",
    "train30_ens_val_set = read_csv('BatchPrediction/train30_ens_val_set.csv', index_col = 0)\n",
    "train40_ens_val_set = read_csv('BatchPrediction/train40_ens_val_set.csv', index_col = 0)\n",
    "train50_ens_val_set = read_csv('BatchPrediction/train50_ens_val_set.csv', index_col = 0)\n",
    "train60_ens_val_set = read_csv('BatchPrediction/train60_ens_val_set.csv', index_col = 0)\n",
    "train70_ens_val_set = read_csv('BatchPrediction/train70_ens_val_set.csv', index_col = 0)\n",
    "train80_ens_val_set = read_csv('BatchPrediction/train80_ens_val_set.csv', index_col = 0)\n",
    "train90_ens_val_set = read_csv('BatchPrediction/train90_ens_val_set.csv', index_col = 0)\n",
    "train100_ens_val_set = read_csv('BatchPrediction/train100_ens_val_set.csv', index_col = 0)\n",
    "\n",
    "auc_ens_val_set = [calcul_auc(train10_ens_val_set), \n",
    "                   calcul_auc(train20_ens_val_set), \n",
    "                   calcul_auc(train30_ens_val_set),\n",
    "                   calcul_auc(train40_ens_val_set),\n",
    "                   calcul_auc(train50_ens_val_set),\n",
    "                   calcul_auc(train60_ens_val_set),\n",
    "                   calcul_auc(train70_ens_val_set),\n",
    "                   calcul_auc(train80_ens_val_set),\n",
    "                   calcul_auc(train90_ens_val_set),\n",
    "                   calcul_auc(train100_ens_val_set)]\n",
    "print(auc_ens_val_set)"
   ]
  },
  {
   "cell_type": "markdown",
   "metadata": {},
   "source": [
    "#### Liste des AUC de toutes les prédictions sur le même train_set \n",
    "- avec modèle ensemble"
   ]
  },
  {
   "cell_type": "code",
   "execution_count": 8,
   "metadata": {},
   "outputs": [
    {
     "name": "stdout",
     "output_type": "stream",
     "text": [
      "[0.9765029774159381, 0.9375948483008334, 0.9157070863911632, 0.9036289674326515, 0.8981852943120162, 0.894161063217684, 0.8894207724776275, 0.8868359660603113, 0.8838516663587935, 0.8817402046834898]\n"
     ]
    }
   ],
   "source": [
    "train10_ens_train10 = read_csv('BatchPrediction/train10_ens_train10.csv', index_col = 0)\n",
    "train20_ens_train20 = read_csv('BatchPrediction/train20_ens_train20.csv', index_col = 0)\n",
    "train30_ens_train30 = read_csv('BatchPrediction/train30_ens_train30.csv', index_col = 0)\n",
    "train40_ens_train40 = read_csv('BatchPrediction/train40_ens_train40.csv', index_col = 0)\n",
    "train50_ens_train50 = read_csv('BatchPrediction/train50_ens_train50.csv', index_col = 0)\n",
    "train60_ens_train60 = read_csv('BatchPrediction/train60_ens_train60.csv', index_col = 0)\n",
    "train70_ens_train70 = read_csv('BatchPrediction/train70_ens_train70.csv', index_col = 0)\n",
    "train80_ens_train80 = read_csv('BatchPrediction/train80_ens_train80.csv', index_col = 0)\n",
    "train90_ens_train90 = read_csv('BatchPrediction/train90_ens_train90.csv', index_col = 0)\n",
    "train100_ens_train100 = read_csv('BatchPrediction/train100_ens_train100.csv', index_col = 0)\n",
    "\n",
    "auc_ens_train_set = [calcul_auc(train10_ens_train10), \n",
    "                   calcul_auc(train20_ens_train20), \n",
    "                   calcul_auc(train30_ens_train30),\n",
    "                   calcul_auc(train40_ens_train40),\n",
    "                   calcul_auc(train50_ens_train50),\n",
    "                   calcul_auc(train60_ens_train60),\n",
    "                   calcul_auc(train70_ens_train70),\n",
    "                   calcul_auc(train80_ens_train80),\n",
    "                   calcul_auc(train90_ens_train90),\n",
    "                   calcul_auc(train100_ens_train100)]\n",
    "print(auc_ens_train_set)"
   ]
  },
  {
   "cell_type": "markdown",
   "metadata": {},
   "source": [
    "#### Liste des AUC de toutes les prédictions sur le validation_set \n",
    "- avec modèle deepnet"
   ]
  },
  {
   "cell_type": "code",
   "execution_count": 9,
   "metadata": {},
   "outputs": [
    {
     "name": "stdout",
     "output_type": "stream",
     "text": [
      "[0.8323794961054553, 0.8343984968906153, 0.8376676090656506, 0.8413658681915295, 0.8420177860259241, 0.833905650448153, 0.8398904322636506, 0.8413518496926082, 0.8400786312766809, 0.8361525737600477]\n"
     ]
    }
   ],
   "source": [
    "train10_dn_val_set = read_csv('BatchPrediction/train10_dn_val_set.csv', index_col = 0)\n",
    "train20_dn_val_set = read_csv('BatchPrediction/train20_dn_val_set.csv', index_col = 0)\n",
    "train30_dn_val_set = read_csv('BatchPrediction/train30_dn_val_set.csv', index_col = 0)\n",
    "train40_dn_val_set = read_csv('BatchPrediction/train40_dn_val_set.csv', index_col = 0)\n",
    "train50_dn_val_set = read_csv('BatchPrediction/train50_dn_val_set.csv', index_col = 0)\n",
    "train60_dn_val_set = read_csv('BatchPrediction/train60_dn_val_set.csv', index_col = 0)\n",
    "train70_dn_val_set = read_csv('BatchPrediction/train70_dn_val_set.csv', index_col = 0)\n",
    "train80_dn_val_set = read_csv('BatchPrediction/train80_dn_val_set.csv', index_col = 0)\n",
    "train90_dn_val_set = read_csv('BatchPrediction/train90_dn_val_set.csv', index_col = 0)\n",
    "train100_dn_val_set = read_csv('BatchPrediction/train100_dn_val_set.csv', index_col = 0)\n",
    "\n",
    "auc_dn_val_set = [calcul_auc(train10_dn_val_set), \n",
    "                   calcul_auc(train20_dn_val_set), \n",
    "                   calcul_auc(train30_dn_val_set),\n",
    "                   calcul_auc(train40_dn_val_set),\n",
    "                   calcul_auc(train50_dn_val_set),\n",
    "                   calcul_auc(train60_dn_val_set),\n",
    "                   calcul_auc(train70_dn_val_set),\n",
    "                   calcul_auc(train80_dn_val_set),\n",
    "                   calcul_auc(train90_dn_val_set),\n",
    "                   calcul_auc(train100_dn_val_set)]\n",
    "print(auc_dn_val_set)"
   ]
  },
  {
   "cell_type": "markdown",
   "metadata": {},
   "source": [
    "#### Liste des AUC de toutes les prédictions sur le même train_set \n",
    "- avec modèle deepnet"
   ]
  },
  {
   "cell_type": "code",
   "execution_count": 10,
   "metadata": {},
   "outputs": [
    {
     "name": "stdout",
     "output_type": "stream",
     "text": [
      "[0.8834125701758622, 0.8686400929428864, 0.8636330367289068, 0.8549305238121143, 0.8568793053919028, 0.8500994099697586, 0.8528272922831225, 0.8511667858127646, 0.8457503561777691, 0.8500326322797104]\n"
     ]
    }
   ],
   "source": [
    "train10_dn_train10 = read_csv('BatchPrediction/train10_dn_train10.csv', index_col = 0)\n",
    "train20_dn_train20 = read_csv('BatchPrediction/train20_dn_train20.csv', index_col = 0)\n",
    "train30_dn_train30 = read_csv('BatchPrediction/train30_dn_train30.csv', index_col = 0)\n",
    "train40_dn_train40 = read_csv('BatchPrediction/train40_dn_train40.csv', index_col = 0)\n",
    "train50_dn_train50 = read_csv('BatchPrediction/train50_dn_train50.csv', index_col = 0)\n",
    "train60_dn_train60 = read_csv('BatchPrediction/train60_dn_train60.csv', index_col = 0)\n",
    "train70_dn_train70 = read_csv('BatchPrediction/train70_dn_train70.csv', index_col = 0)\n",
    "train80_dn_train80 = read_csv('BatchPrediction/train80_dn_train80.csv', index_col = 0)\n",
    "train90_dn_train90 = read_csv('BatchPrediction/train90_dn_train90.csv', index_col = 0)\n",
    "train100_dn_train100 = read_csv('BatchPrediction/train100_dn_train100.csv', index_col = 0)\n",
    "\n",
    "auc_dn_train_set = [calcul_auc(train10_dn_train10), \n",
    "                   calcul_auc(train20_dn_train20), \n",
    "                   calcul_auc(train30_dn_train30),\n",
    "                   calcul_auc(train40_dn_train40),\n",
    "                   calcul_auc(train50_dn_train50),\n",
    "                   calcul_auc(train60_dn_train60),\n",
    "                   calcul_auc(train70_dn_train70),\n",
    "                   calcul_auc(train80_dn_train80),\n",
    "                   calcul_auc(train90_dn_train90),\n",
    "                   calcul_auc(train100_dn_train100)]\n",
    "print(auc_dn_train_set)"
   ]
  },
  {
   "cell_type": "markdown",
   "metadata": {},
   "source": [
    "#### Liste de la taille du train_set pour l'axe des abscisses des graphiques"
   ]
  },
  {
   "cell_type": "code",
   "execution_count": 11,
   "metadata": {},
   "outputs": [
    {
     "name": "stdout",
     "output_type": "stream",
     "text": [
      "[12000.0, 24000.0, 36000.0, 48000.0, 60000.0, 72000.0, 84000.0, 96000.0, 108000.0, 120000.0]\n"
     ]
    }
   ],
   "source": [
    "n = 10\n",
    "train_set_size_list = []\n",
    "while n <= 100:\n",
    "    train_set_size = 120000*(n/100)\n",
    "    train_set_size_list.append(train_set_size)\n",
    "    n += 10\n",
    "\n",
    "print(train_set_size_list)"
   ]
  },
  {
   "cell_type": "markdown",
   "metadata": {},
   "source": [
    "#### Graphique de l'évolution de la performance du modèle ensemble sur le validation_set en fonction de la taille du train_set"
   ]
  },
  {
   "cell_type": "code",
   "execution_count": 12,
   "metadata": {},
   "outputs": [
    {
     "data": {
      "text/plain": [
       "<matplotlib.legend.Legend at 0x7f2d65ccd6a0>"
      ]
     },
     "execution_count": 12,
     "metadata": {},
     "output_type": "execute_result"
    },
    {
     "data": {
      "image/png": "[encoded data removed]",
      "text/plain": [
       "<Figure size 432x288 with 1 Axes>"
      ]
     },
     "metadata": {
      "needs_background": "light"
     },
     "output_type": "display_data"
    }
   ],
   "source": [
    "plt.xlabel(\"Train_set size\")\n",
    "plt.ylabel(\"Performance : AUC\")\n",
    "plt.title(\"GiveMeCredit - LearningCurves\")\n",
    "plt.grid()\n",
    "plt.axhline(y=0.87, color = 'green', label=\"Desired Perf\")\n",
    "plt.ylim(0.8,0.9)\n",
    "plt.plot(train_set_size_list, auc_ens_val_set, label= \"Ensemble_sur_validation_set\")\n",
    "plt.legend(loc='lower right')"
   ]
  },
  {
   "cell_type": "markdown",
   "metadata": {},
   "source": [
    "### Méthode pour la création des graphiques en fonction des \"list\" choisies"
   ]
  },
  {
   "cell_type": "code",
   "execution_count": 19,
   "metadata": {},
   "outputs": [],
   "source": [
    "def create_plot(list1, list2, list3, name1, name2):\n",
    "    plt.xlabel(\"Train_set size\")\n",
    "    plt.ylabel(\"Performance : AUC\")\n",
    "    plt.title(\"GiveMeCredit - LearningCurves\")\n",
    "    plt.grid()\n",
    "    plt.axhline(y=0.87, color= 'green', label=\"Desired Perf\")\n",
    "    plt.rcParams['figure.figsize'] = [15 , 6]\n",
    "    plt.ylim(0.82,0.98)\n",
    "    plt.plot(list1, list2, color= 'blue', label= name1)\n",
    "    plt.plot(list1, list3, color= 'red', label= name2)\n",
    "    plt.legend(loc='upper right')\n",
    "    plt.show()"
   ]
  },
  {
   "cell_type": "markdown",
   "metadata": {},
   "source": [
    "### Graphique de l'évolution de la performance du modèle en fonction de la taille du train_set :\n",
    "\n",
    "1. modèle ensemble (bleu) vs modèle deepnet (rouge) sur validation_set\n",
    "2. modèle ensemble sur validation_set (bleu) et sur train_set (rouge)\n",
    "3. modèle deepnet sur validation_set (bleu) et sur train_set (rouge)"
   ]
  },
  {
   "cell_type": "code",
   "execution_count": 20,
   "metadata": {},
   "outputs": [
    {
     "data": {
      "image/png": "[encoded data removed]",
      "text/plain": [
       "<Figure size 1080x432 with 1 Axes>"
      ]
     },
     "metadata": {
      "needs_background": "light"
     },
     "output_type": "display_data"
    },
    {
     "data": {
      "image/png": "[encoded data removed]",
      "text/plain": [
       "<Figure size 1080x432 with 1 Axes>"
      ]
     },
     "metadata": {
      "needs_background": "light"
     },
     "output_type": "display_data"
    },
    {
     "data": {
      "image/png": "[encoded data removed]",
      "text/plain": [
       "<Figure size 1080x432 with 1 Axes>"
      ]
     },
     "metadata": {
      "needs_background": "light"
     },
     "output_type": "display_data"
    }
   ],
   "source": [
    "create_plot(train_set_size_list, auc_ens_val_set, auc_dn_val_set, 'ensemble sur val_set', 'deepnet sur val_set')\n",
    "\n",
    "create_plot(train_set_size_list, auc_ens_val_set, auc_ens_train_set, 'ensemble sur val_set', 'ensemble sur train_set')\n",
    "\n",
    "create_plot(train_set_size_list, auc_dn_val_set, auc_dn_train_set, 'deepnet sur val_set', 'deepnet sur train_set')"
   ]
  },
  {
   "cell_type": "code",
   "execution_count": null,
   "metadata": {},
   "outputs": [],
   "source": []
  }
 ],
 "metadata": {
  "kernelspec": {
   "display_name": "Python 3",
   "language": "python",
   "name": "python3"
  },
  "language_info": {
   "codemirror_mode": {
    "name": "ipython",
    "version": 3
   },
   "file_extension": ".py",
   "mimetype": "text/x-python",
   "name": "python",
   "nbconvert_exporter": "python",
   "pygments_lexer": "ipython3",
   "version": "3.7.3"
  },
  "toc": {
   "base_numbering": 1,
   "nav_menu": {},
   "number_sections": true,
   "sideBar": true,
   "skip_h1_title": false,
   "title_cell": "Table of Contents",
   "title_sidebar": "Contents",
   "toc_cell": false,
   "toc_position": {},
   "toc_section_display": true,
   "toc_window_display": false
  }
 },
 "nbformat": 4,
 "nbformat_minor": 2
}
