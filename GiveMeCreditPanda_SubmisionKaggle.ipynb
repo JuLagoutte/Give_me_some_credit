{
 "cells": [
  {
   "cell_type": "markdown",
   "metadata": {},
   "source": [
    "# Compétition Kaggle Give_Me_Some_Credit\n",
    "\n",
    "#### Pour commencer, on récupère le fichier csv sur Kaggle"
   ]
  },
  {
   "cell_type": "code",
   "execution_count": 1,
   "metadata": {},
   "outputs": [],
   "source": [
    "from bigml.api import BigML\n",
    "from pandas import read_csv\n",
    "\n",
    "df = read_csv('https://oml-data.s3.amazonaws.com/kaggle-give-me-credit-train.csv', index_col=0)"
   ]
  },
  {
   "cell_type": "markdown",
   "metadata": {},
   "source": [
    "#### Connexion BigML project"
   ]
  },
  {
   "cell_type": "code",
   "execution_count": 2,
   "metadata": {},
   "outputs": [],
   "source": [
    "api = BigML(project='project/5d94a454eba31d46690001d1') #Julien project/5d94a454eba31d46690001d1"
   ]
  },
  {
   "cell_type": "markdown",
   "metadata": {},
   "source": [
    "#### Création de la fonction pour modifier les datasets comme on le souhaite"
   ]
  },
  {
   "cell_type": "code",
   "execution_count": 3,
   "metadata": {},
   "outputs": [],
   "source": [
    "def change_dataset(dataframe):\n",
    "    dataframe['IncomePerPerson'] = dataframe['MonthlyIncome'] / ( dataframe['NumberOfDependents'] + 1 )\n",
    "    dataframe.loc[dataframe.age > 80, 'isOld'] = '1' \n",
    "    dataframe.loc[dataframe.age <= 80, 'isOld'] = '0'\n",
    "    dataframe['MonthlyDebt'] = dataframe['MonthlyIncome'] * dataframe['DebtRatio']\n",
    "    dataframe['MonthlyBalance'] = dataframe['MonthlyIncome'] - dataframe['MonthlyDebt']\n",
    "    dataframe['DebtPerPerson'] = dataframe['MonthlyDebt'] / ( dataframe['NumberOfDependents'] + 1 )\n",
    "    dataframe['BalancePerPerson'] = dataframe['MonthlyBalance'] / ( dataframe['NumberOfDependents'] + 1 )\n",
    "    dataframe['NumberOfTime30-89DaysPastDueNotWorse'] = dataframe['NumberOfTime30-59DaysPastDueNotWorse'] + dataframe['NumberOfTime60-89DaysPastDueNotWorse']\n",
    "    dataframe['NumbersOfOpen-NumberRealEstate'] = dataframe['NumberOfOpenCreditLinesAndLoans'] - dataframe['NumberRealEstateLoansOrLines']\n",
    "    dataframe = dataframe.fillna(0)\n",
    "    dataframe.index.names = ['Id']\n",
    "    return dataframe"
   ]
  },
  {
   "cell_type": "markdown",
   "metadata": {},
   "source": [
    "*Au dessus, on a les modifications sur le dataset qu'on a effectué jusqu'à ce jour avant de créer le notebook*\n",
    "\n",
    "*__ne pas oublier d'ajouter les modifications__ faites sur le notebook __\"GiveMeCredit_ContinuousImprovement\"__ dans la définition __\"def new_change_dataset(dataframe)\"__ pour une nouvelle submission à Kaggle*"
   ]
  },
  {
   "cell_type": "markdown",
   "metadata": {},
   "source": [
    "#### Application de la fonction de modification du dataset Trainfull"
   ]
  },
  {
   "cell_type": "code",
   "execution_count": 22,
   "metadata": {},
   "outputs": [],
   "source": [
    "df = change_dataset(df)\n",
    "df.to_csv('csv_file/train_full.csv')"
   ]
  },
  {
   "cell_type": "markdown",
   "metadata": {},
   "source": [
    "## Envoi sur BigML\n",
    "\n",
    "#### Création de la source et du dataset sur BigML via l'API"
   ]
  },
  {
   "cell_type": "code",
   "execution_count": 23,
   "metadata": {},
   "outputs": [
    {
     "data": {
      "text/plain": [
       "True"
      ]
     },
     "execution_count": 23,
     "metadata": {},
     "output_type": "execute_result"
    }
   ],
   "source": [
    "source = api.create_source('csv_file/train_full.csv')\n",
    "api.ok(source)\n",
    "\n",
    "origin_dataset = api.create_dataset(source)\n",
    "api.ok(origin_dataset)"
   ]
  },
  {
   "cell_type": "markdown",
   "metadata": {},
   "source": [
    "#### Création d'un modele ensemble sur la partie Train du dataset (On precise quelle est la donnée que l'on recherche)"
   ]
  },
  {
   "cell_type": "code",
   "execution_count": 24,
   "metadata": {},
   "outputs": [],
   "source": [
    "ensemble = api.create_ensemble(origin_dataset , {\"objective_field\" : \"SeriousDlqin2yrs\"})"
   ]
  },
  {
   "cell_type": "markdown",
   "metadata": {},
   "source": [
    "#### Modifications fichier test kaggle\n",
    "\n",
    "##### Ce fichier doit avoir les mêmes modifications que le fichier train de kaggle qu'on a modifié au début"
   ]
  },
  {
   "cell_type": "code",
   "execution_count": 25,
   "metadata": {},
   "outputs": [],
   "source": [
    "df_test_kaggle = read_csv('https://oml-data.s3.amazonaws.com/kaggle-give-me-credit-test.csv', index_col=0)\n",
    "\n",
    "df_test_kaggle = change_dataset(df_test_kaggle)\n",
    "df_test_kaggle.to_csv('csv_file/dataset_testKaggle.csv')"
   ]
  },
  {
   "cell_type": "markdown",
   "metadata": {},
   "source": [
    "#### Creation d'une source / Modification du fichier test de Kaggle"
   ]
  },
  {
   "cell_type": "code",
   "execution_count": 26,
   "metadata": {},
   "outputs": [
    {
     "data": {
      "text/plain": [
       "True"
      ]
     },
     "execution_count": 26,
     "metadata": {},
     "output_type": "execute_result"
    }
   ],
   "source": [
    "source_test = api.create_source('csv_file/dataset_testKaggle.csv')\n",
    "api.ok(source_test)"
   ]
  },
  {
   "cell_type": "markdown",
   "metadata": {},
   "source": [
    "#### Creation d'un dataset ( = source )"
   ]
  },
  {
   "cell_type": "code",
   "execution_count": 27,
   "metadata": {},
   "outputs": [
    {
     "data": {
      "text/plain": [
       "True"
      ]
     },
     "execution_count": 27,
     "metadata": {},
     "output_type": "execute_result"
    }
   ],
   "source": [
    "origin_dataset_test = api.create_dataset(source_test)\n",
    "api.ok(origin_dataset_test)"
   ]
  },
  {
   "cell_type": "markdown",
   "metadata": {},
   "source": [
    " ## Mise en forme du fichier conformément aux indications de la compétition Kaggle\n",
    " \n",
    " #### Ici, on ne veut plus que 2 colonnes :  la colonne \"Id\" et la colonne \"1 probability\""
   ]
  },
  {
   "cell_type": "code",
   "execution_count": 28,
   "metadata": {},
   "outputs": [
    {
     "data": {
      "text/plain": [
       "'BatchPrediction/Prediction_Kaggle.csv'"
      ]
     },
     "execution_count": 28,
     "metadata": {},
     "output_type": "execute_result"
    }
   ],
   "source": [
    "batch_prediction_kaggle = api.create_batch_prediction(ensemble, origin_dataset_test,{\"all_fields\": True,\"probabilities\": True})\n",
    "api.ok(batch_prediction_kaggle)\n",
    "api.download_batch_prediction(batch_prediction_kaggle,filename='BatchPrediction/Prediction_Kaggle.csv')"
   ]
  },
  {
   "cell_type": "markdown",
   "metadata": {},
   "source": [
    "#### Supprimer les colonnes superflues pour ne garder que les 2 souhaitées"
   ]
  },
  {
   "cell_type": "code",
   "execution_count": 30,
   "metadata": {},
   "outputs": [],
   "source": [
    "import pandas as p\n",
    "df_final_prediction = p.read_csv('BatchPrediction/Prediction_Kaggle.csv')\n",
    "keep_col = ['Id', '1 probability']\n",
    "df_final_prediction = df_final_prediction[keep_col]\n",
    "df_final_prediction.rename(columns={'1 probability':'Probability'}, inplace=True)\n",
    "df_final_prediction.to_csv('csv_file/FinalPrediction.csv', index=False)"
   ]
  },
  {
   "cell_type": "markdown",
   "metadata": {},
   "source": [
    "#### Envoi du fichier à Kaggle pour participer à la compétition"
   ]
  },
  {
   "cell_type": "code",
   "execution_count": 31,
   "metadata": {},
   "outputs": [
    {
     "name": "stderr",
     "output_type": "stream",
     "text": [
      "100%|██████████| 1.64M/1.64M [00:04<00:00, 366kB/s] \n"
     ]
    },
    {
     "data": {
      "text/plain": [
       "Successfully submitted to Give Me Some Credit"
      ]
     },
     "execution_count": 31,
     "metadata": {},
     "output_type": "execute_result"
    }
   ],
   "source": [
    "import kaggle\n",
    "\n",
    "submission_file = 'csv_file/FinalPrediction.csv'\n",
    "kaggle.api.competition_submit(submission_file, \"BigML ensemble\", \"GiveMeSomeCredit\")"
   ]
  },
  {
   "cell_type": "code",
   "execution_count": null,
   "metadata": {},
   "outputs": [],
   "source": []
  }
 ],
 "metadata": {
  "kernelspec": {
   "display_name": "Python 3",
   "language": "python",
   "name": "python3"
  },
  "language_info": {
   "codemirror_mode": {
    "name": "ipython",
    "version": 3
   },
   "file_extension": ".py",
   "mimetype": "text/x-python",
   "name": "python",
   "nbconvert_exporter": "python",
   "pygments_lexer": "ipython3",
   "version": "3.7.3"
  }
 },
 "nbformat": 4,
 "nbformat_minor": 2
}
