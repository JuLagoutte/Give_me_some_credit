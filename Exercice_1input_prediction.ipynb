{
 "cells": [
  {
   "cell_type": "markdown",
   "metadata": {},
   "source": [
    "## Objectifs du notebook :\n",
    "\n",
    "**L’application utilisée par le banquier nous envoie les informations suivantes :** \n",
    "\n",
    "_{\n",
    "    \"RevolvingUtilizationOfUnsecuredLines\": 0.01703559,\n",
    "    \"NumberOfDependents\": 1,\n",
    "    \"DebtRatio\": 0,\n",
    "    \"age\": 42,\n",
    "    \"NumberOfOpenCreditLinesAndLoans\": 6,\n",
    "    \"NumberRealEstateLoansOrLines\": 1,\n",
    "    \"NumberOfTime30-59DaysPastDueNotWorse\": 1,\n",
    "    \"NumberOfTime60-89DaysPastDueNotWorse\": 0,\n",
    "    \"NumberOfTimes90DaysLate\": 0\n",
    "}_\n",
    "\n",
    "- Créez un nouveau notebook, dans lequel vous calculerez une probabilité de défaut de remboursement.\n",
    "- Committez, et envoyez moi le lien pour que je retrouve facilement\n",
    "- Dites “exo fini” ici-même, quand vous avez fini."
   ]
  },
  {
   "cell_type": "code",
   "execution_count": 42,
   "metadata": {},
   "outputs": [],
   "source": [
    "from bigml.api import BigML\n",
    "from bigml.ensemble import Ensemble\n",
    "from pandas import read_csv\n",
    "\n",
    "# api = BigML(project='project/5d94a454eba31d46690001d1')\n",
    "api = BigML()\n",
    "\n",
    "df = read_csv('csv_file/exo_1input.csv', index_col=0)\n",
    "# ce csv a été créé avec toutes les infos données par le banquier sur nouvel input"
   ]
  },
  {
   "cell_type": "code",
   "execution_count": 43,
   "metadata": {},
   "outputs": [],
   "source": [
    "def change_dataset(dataframe):\n",
    "    dataframe['IncomePerPerson'] = dataframe['MonthlyIncome'] / ( dataframe['NumberOfDependents'] + 1 )\n",
    "    dataframe.loc[dataframe.age > 80, 'isOld'] = '1' \n",
    "    dataframe.loc[dataframe.age <= 80, 'isOld'] = '0'\n",
    "    dataframe['MonthlyDebt'] = dataframe['MonthlyIncome'] * dataframe['DebtRatio']\n",
    "    dataframe['MonthlyBalance'] = dataframe['MonthlyIncome'] - dataframe['MonthlyDebt']\n",
    "    dataframe['DebtPerPerson'] = dataframe['MonthlyDebt'] / ( dataframe['NumberOfDependents'] + 1 )\n",
    "    dataframe['BalancePerPerson'] = dataframe['MonthlyBalance'] / ( dataframe['NumberOfDependents'] + 1 )\n",
    "    dataframe['NumberOfTime30-89DaysPastDueNotWorse'] = dataframe['NumberOfTime30-59DaysPastDueNotWorse'] + dataframe['NumberOfTime60-89DaysPastDueNotWorse']\n",
    "    dataframe['NumbersOfOpen-NumberRealEstate'] = dataframe['NumberOfOpenCreditLinesAndLoans'] - dataframe['NumberRealEstateLoansOrLines']\n",
    "    dataframe = dataframe.fillna(0)\n",
    "    dataframe.index.names = ['Id']\n",
    "    return dataframe"
   ]
  },
  {
   "cell_type": "code",
   "execution_count": 44,
   "metadata": {},
   "outputs": [],
   "source": [
    "df_modify = change_dataset(df)"
   ]
  },
  {
   "cell_type": "code",
   "execution_count": 45,
   "metadata": {},
   "outputs": [],
   "source": [
    "df_modify.to_csv('csv_file/input_prepared.csv')"
   ]
  },
  {
   "cell_type": "code",
   "execution_count": 47,
   "metadata": {},
   "outputs": [
    {
     "ename": "TypeError",
     "evalue": "__init__() got an unexpected keyword argument 'domain'",
     "output_type": "error",
     "traceback": [
      "\u001b[0;31m---------------------------------------------------------------------------\u001b[0m",
      "\u001b[0;31mTypeError\u001b[0m                                 Traceback (most recent call last)",
      "\u001b[0;32m<ipython-input-47-37b95fba0b1a>\u001b[0m in \u001b[0;36m<module>\u001b[0;34m\u001b[0m\n\u001b[0;32m----> 1\u001b[0;31m \u001b[0mmodel_ensemble\u001b[0m \u001b[0;34m=\u001b[0m \u001b[0mEnsemble\u001b[0m\u001b[0;34m(\u001b[0m\u001b[0;34m'ensemble/5dc2d7d3e476847468013866'\u001b[0m\u001b[0;34m,\u001b[0m \u001b[0mapi\u001b[0m\u001b[0;34m=\u001b[0m\u001b[0mBigML\u001b[0m\u001b[0;34m(\u001b[0m\u001b[0;34m)\u001b[0m\u001b[0;34m,\u001b[0m \u001b[0mdomain\u001b[0m\u001b[0;34m=\u001b[0m\u001b[0;34m\"bigml.io\"\u001b[0m\u001b[0;34m)\u001b[0m\u001b[0;34m\u001b[0m\u001b[0;34m\u001b[0m\u001b[0m\n\u001b[0m",
      "\u001b[0;31mTypeError\u001b[0m: __init__() got an unexpected keyword argument 'domain'"
     ]
    }
   ],
   "source": [
    "model_ensemble = Ensemble('ensemble/5dc2d7d3e476847468013866', api=BigML(domain=\"bigml.io\"))"
   ]
  },
  {
   "cell_type": "code",
   "execution_count": 36,
   "metadata": {},
   "outputs": [
    {
     "data": {
      "text/plain": [
       "True"
      ]
     },
     "execution_count": 36,
     "metadata": {},
     "output_type": "execute_result"
    }
   ],
   "source": [
    "input_source = api.create_source('csv_file/input_prepared.csv')\n",
    "api.ok(input_source)\n",
    "\n",
    "input_dataset = api.create_dataset(input_source)\n",
    "api.ok(input_dataset)"
   ]
  },
  {
   "cell_type": "code",
   "execution_count": 39,
   "metadata": {},
   "outputs": [
    {
     "data": {
      "text/plain": [
       "{'probability': 0.93283, 'prediction': '0'}"
      ]
     },
     "execution_count": 39,
     "metadata": {},
     "output_type": "execute_result"
    }
   ],
   "source": [
    "input_prediction = model_ensemble.predict(input_dataset, full=True)\n",
    "input_prediction"
   ]
  },
  {
   "cell_type": "code",
   "execution_count": null,
   "metadata": {},
   "outputs": [],
   "source": []
  }
 ],
 "metadata": {
  "kernelspec": {
   "display_name": "Python 3",
   "language": "python",
   "name": "python3"
  },
  "language_info": {
   "codemirror_mode": {
    "name": "ipython",
    "version": 3
   },
   "file_extension": ".py",
   "mimetype": "text/x-python",
   "name": "python",
   "nbconvert_exporter": "python",
   "pygments_lexer": "ipython3",
   "version": "3.7.3"
  }
 },
 "nbformat": 4,
 "nbformat_minor": 2
}
