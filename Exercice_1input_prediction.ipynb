{
 "cells": [
  {
   "cell_type": "markdown",
   "metadata": {},
   "source": [
    "## Objectifs du notebook :\n",
    "\n",
    "**L’application utilisée par le banquier nous envoie les informations suivantes :** \n",
    "\n",
    "_{\n",
    "    \"RevolvingUtilizationOfUnsecuredLines\": 0.01703559,\n",
    "    \"NumberOfDependents\": 1,\n",
    "    \"DebtRatio\": 0,\n",
    "    \"age\": 42,\n",
    "    \"NumberOfOpenCreditLinesAndLoans\": 6,\n",
    "    \"NumberRealEstateLoansOrLines\": 1,\n",
    "    \"NumberOfTime30-59DaysPastDueNotWorse\": 1,\n",
    "    \"NumberOfTime60-89DaysPastDueNotWorse\": 0,\n",
    "    \"NumberOfTimes90DaysLate\": 0\n",
    "}_\n",
    "\n",
    "- Créez un nouveau notebook, dans lequel vous calculerez une probabilité de défaut de remboursement.\n",
    "- Committez, et envoyez moi le lien pour que je retrouve facilement\n",
    "- Dites “exo fini” ici-même, quand vous avez fini."
   ]
  },
  {
   "cell_type": "markdown",
   "metadata": {},
   "source": [
    "### Import des librairies et connection à l'API BigML"
   ]
  },
  {
   "cell_type": "code",
   "execution_count": 31,
   "metadata": {},
   "outputs": [],
   "source": [
    "from bigml.api import BigML\n",
    "from bigml.ensemble import Ensemble\n",
    "import pandas as pd\n",
    "# from pandas import read_csv\n",
    "\n",
    "# api = BigML(project='project/5d94a454eba31d46690001d1')\n",
    "api = BigML()"
   ]
  },
  {
   "cell_type": "markdown",
   "metadata": {},
   "source": [
    "### Nouvel input"
   ]
  },
  {
   "cell_type": "code",
   "execution_count": 51,
   "metadata": {},
   "outputs": [
    {
     "data": {
      "text/html": [
       "<div>\n",
       "<style scoped>\n",
       "    .dataframe tbody tr th:only-of-type {\n",
       "        vertical-align: middle;\n",
       "    }\n",
       "\n",
       "    .dataframe tbody tr th {\n",
       "        vertical-align: top;\n",
       "    }\n",
       "\n",
       "    .dataframe thead th {\n",
       "        text-align: right;\n",
       "    }\n",
       "</style>\n",
       "<table border=\"1\" class=\"dataframe\">\n",
       "  <thead>\n",
       "    <tr style=\"text-align: right;\">\n",
       "      <th></th>\n",
       "      <th>DebtRatio</th>\n",
       "      <th>MonthlyIncome</th>\n",
       "      <th>NumberOfDependents</th>\n",
       "      <th>NumberOfOpenCreditLinesAndLoans</th>\n",
       "      <th>NumberOfTime30-59DaysPastDueNotWorse</th>\n",
       "      <th>NumberOfTime60-89DaysPastDueNotWorse</th>\n",
       "      <th>NumberOfTimes90DaysLate</th>\n",
       "      <th>NumberRealEstateLoansOrLines</th>\n",
       "      <th>RevolvingUtilizationOfUnsecuredLines</th>\n",
       "      <th>age</th>\n",
       "    </tr>\n",
       "  </thead>\n",
       "  <tbody>\n",
       "    <tr>\n",
       "      <th>0</th>\n",
       "      <td>0</td>\n",
       "      <td>0</td>\n",
       "      <td>1</td>\n",
       "      <td>6</td>\n",
       "      <td>1</td>\n",
       "      <td>0</td>\n",
       "      <td>0</td>\n",
       "      <td>1</td>\n",
       "      <td>0.017036</td>\n",
       "      <td>42</td>\n",
       "    </tr>\n",
       "  </tbody>\n",
       "</table>\n",
       "</div>"
      ],
      "text/plain": [
       "   DebtRatio  MonthlyIncome  NumberOfDependents  \\\n",
       "0          0              0                   1   \n",
       "\n",
       "   NumberOfOpenCreditLinesAndLoans  NumberOfTime30-59DaysPastDueNotWorse  \\\n",
       "0                                6                                     1   \n",
       "\n",
       "   NumberOfTime60-89DaysPastDueNotWorse  NumberOfTimes90DaysLate  \\\n",
       "0                                     0                        0   \n",
       "\n",
       "   NumberRealEstateLoansOrLines  RevolvingUtilizationOfUnsecuredLines  age  \n",
       "0                             1                              0.017036   42  "
      ]
     },
     "execution_count": 51,
     "metadata": {},
     "output_type": "execute_result"
    }
   ],
   "source": [
    "df_data = {\"RevolvingUtilizationOfUnsecuredLines\": 0.01703559,\n",
    " \"NumberOfDependents\": 1,\n",
    " \"DebtRatio\": 0,\n",
    " \"age\": 42,\n",
    " \"NumberOfOpenCreditLinesAndLoans\": 6,\n",
    " \"NumberRealEstateLoansOrLines\": 1,\n",
    " \"NumberOfTime30-59DaysPastDueNotWorse\": 1,\n",
    " \"NumberOfTime60-89DaysPastDueNotWorse\": 0,\n",
    " \"NumberOfTimes90DaysLate\": 0,\n",
    " \"MonthlyIncome\": 0}\n",
    "\n",
    "df = pd.DataFrame([df_data])\n",
    "df"
   ]
  },
  {
   "cell_type": "markdown",
   "metadata": {},
   "source": [
    "### Utilisation d'une méthode pour avoir un dataset avec toutes les modifications"
   ]
  },
  {
   "cell_type": "code",
   "execution_count": 52,
   "metadata": {},
   "outputs": [],
   "source": [
    "from ipynb.fs.full.new_input import change_dataset"
   ]
  },
  {
   "cell_type": "code",
   "execution_count": 53,
   "metadata": {},
   "outputs": [
    {
     "data": {
      "text/html": [
       "<div>\n",
       "<style scoped>\n",
       "    .dataframe tbody tr th:only-of-type {\n",
       "        vertical-align: middle;\n",
       "    }\n",
       "\n",
       "    .dataframe tbody tr th {\n",
       "        vertical-align: top;\n",
       "    }\n",
       "\n",
       "    .dataframe thead th {\n",
       "        text-align: right;\n",
       "    }\n",
       "</style>\n",
       "<table border=\"1\" class=\"dataframe\">\n",
       "  <thead>\n",
       "    <tr style=\"text-align: right;\">\n",
       "      <th></th>\n",
       "      <th>DebtRatio</th>\n",
       "      <th>MonthlyIncome</th>\n",
       "      <th>NumberOfDependents</th>\n",
       "      <th>NumberOfOpenCreditLinesAndLoans</th>\n",
       "      <th>NumberOfTime30-59DaysPastDueNotWorse</th>\n",
       "      <th>NumberOfTime60-89DaysPastDueNotWorse</th>\n",
       "      <th>NumberOfTimes90DaysLate</th>\n",
       "      <th>NumberRealEstateLoansOrLines</th>\n",
       "      <th>RevolvingUtilizationOfUnsecuredLines</th>\n",
       "      <th>age</th>\n",
       "      <th>IncomePerPerson</th>\n",
       "      <th>isOld</th>\n",
       "      <th>MonthlyDebt</th>\n",
       "      <th>MonthlyBalance</th>\n",
       "      <th>DebtPerPerson</th>\n",
       "      <th>BalancePerPerson</th>\n",
       "      <th>NumberOfTime30-89DaysPastDueNotWorse</th>\n",
       "      <th>NumbersOfOpen-NumberRealEstate</th>\n",
       "    </tr>\n",
       "    <tr>\n",
       "      <th>Id</th>\n",
       "      <th></th>\n",
       "      <th></th>\n",
       "      <th></th>\n",
       "      <th></th>\n",
       "      <th></th>\n",
       "      <th></th>\n",
       "      <th></th>\n",
       "      <th></th>\n",
       "      <th></th>\n",
       "      <th></th>\n",
       "      <th></th>\n",
       "      <th></th>\n",
       "      <th></th>\n",
       "      <th></th>\n",
       "      <th></th>\n",
       "      <th></th>\n",
       "      <th></th>\n",
       "      <th></th>\n",
       "    </tr>\n",
       "  </thead>\n",
       "  <tbody>\n",
       "    <tr>\n",
       "      <th>0</th>\n",
       "      <td>0</td>\n",
       "      <td>0</td>\n",
       "      <td>1</td>\n",
       "      <td>6</td>\n",
       "      <td>1</td>\n",
       "      <td>0</td>\n",
       "      <td>0</td>\n",
       "      <td>1</td>\n",
       "      <td>0.017036</td>\n",
       "      <td>42</td>\n",
       "      <td>0.0</td>\n",
       "      <td>0</td>\n",
       "      <td>0</td>\n",
       "      <td>0</td>\n",
       "      <td>0.0</td>\n",
       "      <td>0.0</td>\n",
       "      <td>1</td>\n",
       "      <td>5</td>\n",
       "    </tr>\n",
       "  </tbody>\n",
       "</table>\n",
       "</div>"
      ],
      "text/plain": [
       "    DebtRatio  MonthlyIncome  NumberOfDependents  \\\n",
       "Id                                                 \n",
       "0           0              0                   1   \n",
       "\n",
       "    NumberOfOpenCreditLinesAndLoans  NumberOfTime30-59DaysPastDueNotWorse  \\\n",
       "Id                                                                          \n",
       "0                                 6                                     1   \n",
       "\n",
       "    NumberOfTime60-89DaysPastDueNotWorse  NumberOfTimes90DaysLate  \\\n",
       "Id                                                                  \n",
       "0                                      0                        0   \n",
       "\n",
       "    NumberRealEstateLoansOrLines  RevolvingUtilizationOfUnsecuredLines  age  \\\n",
       "Id                                                                            \n",
       "0                              1                              0.017036   42   \n",
       "\n",
       "    IncomePerPerson isOld  MonthlyDebt  MonthlyBalance  DebtPerPerson  \\\n",
       "Id                                                                      \n",
       "0               0.0     0            0               0            0.0   \n",
       "\n",
       "    BalancePerPerson  NumberOfTime30-89DaysPastDueNotWorse  \\\n",
       "Id                                                           \n",
       "0                0.0                                     1   \n",
       "\n",
       "    NumbersOfOpen-NumberRealEstate  \n",
       "Id                                  \n",
       "0                                5  "
      ]
     },
     "execution_count": 53,
     "metadata": {},
     "output_type": "execute_result"
    }
   ],
   "source": [
    "df_modify = change_dataset(df)\n",
    "df_modify"
   ]
  },
  {
   "cell_type": "markdown",
   "metadata": {},
   "source": [
    "### Transformation du dataset en list pour pouvoir lui appliquer un modèle et faire la prédiction"
   ]
  },
  {
   "cell_type": "code",
   "execution_count": 93,
   "metadata": {},
   "outputs": [
    {
     "data": {
      "text/plain": [
       "{0: {'DebtRatio': 0,\n",
       "  'MonthlyIncome': 0,\n",
       "  'NumberOfDependents': 1,\n",
       "  'NumberOfOpenCreditLinesAndLoans': 6,\n",
       "  'NumberOfTime30-59DaysPastDueNotWorse': 1,\n",
       "  'NumberOfTime60-89DaysPastDueNotWorse': 0,\n",
       "  'NumberOfTimes90DaysLate': 0,\n",
       "  'NumberRealEstateLoansOrLines': 1,\n",
       "  'RevolvingUtilizationOfUnsecuredLines': 0.01703559,\n",
       "  'age': 42,\n",
       "  'IncomePerPerson': 0.0,\n",
       "  'isOld': '0',\n",
       "  'MonthlyDebt': 0,\n",
       "  'MonthlyBalance': 0,\n",
       "  'DebtPerPerson': 0.0,\n",
       "  'BalancePerPerson': 0.0,\n",
       "  'NumberOfTime30-89DaysPastDueNotWorse': 1,\n",
       "  'NumbersOfOpen-NumberRealEstate': 5}}"
      ]
     },
     "execution_count": 93,
     "metadata": {},
     "output_type": "execute_result"
    }
   ],
   "source": [
    "input_data = df_modify.to_dict('index')\n",
    "\n",
    "input_data"
   ]
  },
  {
   "cell_type": "markdown",
   "metadata": {},
   "source": [
    "### Modèle"
   ]
  },
  {
   "cell_type": "code",
   "execution_count": 57,
   "metadata": {},
   "outputs": [],
   "source": [
    "model_ensemble = Ensemble('ensemble/5dc2d7d3e476847468013866', api=BigML(domain=\"bigml.io\"))"
   ]
  },
  {
   "cell_type": "markdown",
   "metadata": {},
   "source": [
    "### Prédiction"
   ]
  },
  {
   "cell_type": "code",
   "execution_count": 94,
   "metadata": {},
   "outputs": [
    {
     "data": {
      "text/plain": [
       "{'probability': 0.93283, 'prediction': '0'}"
      ]
     },
     "execution_count": 94,
     "metadata": {},
     "output_type": "execute_result"
    }
   ],
   "source": [
    "input_prediction = model_ensemble.predict(input_data, full=True)\n",
    "input_prediction"
   ]
  },
  {
   "cell_type": "code",
   "execution_count": null,
   "metadata": {},
   "outputs": [],
   "source": []
  }
 ],
 "metadata": {
  "kernelspec": {
   "display_name": "Python 3",
   "language": "python",
   "name": "python3"
  },
  "language_info": {
   "codemirror_mode": {
    "name": "ipython",
    "version": 3
   },
   "file_extension": ".py",
   "mimetype": "text/x-python",
   "name": "python",
   "nbconvert_exporter": "python",
   "pygments_lexer": "ipython3",
   "version": "3.7.3"
  }
 },
 "nbformat": 4,
 "nbformat_minor": 2
}
