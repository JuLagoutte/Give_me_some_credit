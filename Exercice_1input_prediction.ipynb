{
 "cells": [
  {
   "cell_type": "markdown",
   "metadata": {},
   "source": [
    "## Objectifs du notebook :\n",
    "\n",
    "**L’application utilisée par le banquier nous envoie les informations suivantes :** \n",
    "\n",
    "_{\n",
    "    \"RevolvingUtilizationOfUnsecuredLines\": 0.01703559,\n",
    "    \"NumberOfDependents\": 1,\n",
    "    \"DebtRatio\": 0,\n",
    "    \"age\": 42,\n",
    "    \"NumberOfOpenCreditLinesAndLoans\": 6,\n",
    "    \"NumberRealEstateLoansOrLines\": 1,\n",
    "    \"NumberOfTime30-59DaysPastDueNotWorse\": 1,\n",
    "    \"NumberOfTime60-89DaysPastDueNotWorse\": 0,\n",
    "    \"NumberOfTimes90DaysLate\": 0\n",
    "}_\n",
    "\n",
    "- Créez un nouveau notebook, dans lequel vous calculerez une probabilité de défaut de remboursement.\n",
    "- Committez, et envoyez moi le lien pour que je retrouve facilement\n",
    "- Faire une prédiction via l'API bigML et la librairie Sklearn"
   ]
  },
  {
   "cell_type": "markdown",
   "metadata": {},
   "source": [
    "# Via API BigML"
   ]
  },
  {
   "cell_type": "markdown",
   "metadata": {},
   "source": [
    "### Import des librairies et connection à l'API BigML"
   ]
  },
  {
   "cell_type": "code",
   "execution_count": 1,
   "metadata": {},
   "outputs": [],
   "source": [
    "from bigml.api import BigML\n",
    "from bigml.ensemble import Ensemble\n",
    "import pandas as pd\n",
    "# from pandas import read_csv\n",
    "\n",
    "# api = BigML(project='project/5d94a454eba31d46690001d1')\n",
    "api = BigML()"
   ]
  },
  {
   "cell_type": "markdown",
   "metadata": {},
   "source": [
    "Initialisation du dataset"
   ]
  },
  {
   "cell_type": "code",
   "execution_count": 2,
   "metadata": {},
   "outputs": [],
   "source": [
    "df = {\"RevolvingUtilizationOfUnsecuredLines\": 0,\n",
    " \"NumberOfDependents\": 0,\n",
    " \"DebtRatio\": 0,\n",
    " \"age\": 0,\n",
    " \"NumberOfOpenCreditLinesAndLoans\": 0,\n",
    " \"NumberRealEstateLoansOrLines\": 0,\n",
    " \"NumberOfTime30-59DaysPastDueNotWorse\": 0,\n",
    " \"NumberOfTime60-89DaysPastDueNotWorse\": 0,\n",
    " \"NumberOfTimes90DaysLate\": 0,\n",
    " \"MonthlyIncome\": 0}"
   ]
  },
  {
   "cell_type": "markdown",
   "metadata": {},
   "source": [
    "### Nouvel input"
   ]
  },
  {
   "cell_type": "code",
   "execution_count": 3,
   "metadata": {},
   "outputs": [],
   "source": [
    "new_input = {\"RevolvingUtilizationOfUnsecuredLines\": 0.01703559, \n",
    "             \"NumberOfDependents\": 1, \n",
    "             \"DebtRatio\": 0, \n",
    "             \"age\": 42, \n",
    "             \"NumberOfOpenCreditLinesAndLoans\": 6, \n",
    "             \"NumberRealEstateLoansOrLines\": 1, \n",
    "             \"NumberOfTime30-59DaysPastDueNotWorse\": 1,\n",
    "             \"NumberOfTime60-89DaysPastDueNotWorse\": 0,\n",
    "             \"NumberOfTimes90DaysLate\": 0}"
   ]
  },
  {
   "cell_type": "markdown",
   "metadata": {},
   "source": [
    "### Intégration des données dans la data"
   ]
  },
  {
   "cell_type": "code",
   "execution_count": 4,
   "metadata": {},
   "outputs": [
    {
     "name": "stdout",
     "output_type": "stream",
     "text": [
      "{'RevolvingUtilizationOfUnsecuredLines': 0.01703559, 'NumberOfDependents': 1, 'DebtRatio': 0, 'age': 42, 'NumberOfOpenCreditLinesAndLoans': 6, 'NumberRealEstateLoansOrLines': 1, 'NumberOfTime30-59DaysPastDueNotWorse': 1, 'NumberOfTime60-89DaysPastDueNotWorse': 0, 'NumberOfTimes90DaysLate': 0, 'MonthlyIncome': 0}\n"
     ]
    }
   ],
   "source": [
    "df.update(new_input)\n",
    "print(df)"
   ]
  },
  {
   "cell_type": "code",
   "execution_count": 5,
   "metadata": {},
   "outputs": [
    {
     "data": {
      "text/html": [
       "<div>\n",
       "<style scoped>\n",
       "    .dataframe tbody tr th:only-of-type {\n",
       "        vertical-align: middle;\n",
       "    }\n",
       "\n",
       "    .dataframe tbody tr th {\n",
       "        vertical-align: top;\n",
       "    }\n",
       "\n",
       "    .dataframe thead th {\n",
       "        text-align: right;\n",
       "    }\n",
       "</style>\n",
       "<table border=\"1\" class=\"dataframe\">\n",
       "  <thead>\n",
       "    <tr style=\"text-align: right;\">\n",
       "      <th></th>\n",
       "      <th>DebtRatio</th>\n",
       "      <th>MonthlyIncome</th>\n",
       "      <th>NumberOfDependents</th>\n",
       "      <th>NumberOfOpenCreditLinesAndLoans</th>\n",
       "      <th>NumberOfTime30-59DaysPastDueNotWorse</th>\n",
       "      <th>NumberOfTime60-89DaysPastDueNotWorse</th>\n",
       "      <th>NumberOfTimes90DaysLate</th>\n",
       "      <th>NumberRealEstateLoansOrLines</th>\n",
       "      <th>RevolvingUtilizationOfUnsecuredLines</th>\n",
       "      <th>age</th>\n",
       "    </tr>\n",
       "  </thead>\n",
       "  <tbody>\n",
       "    <tr>\n",
       "      <th>0</th>\n",
       "      <td>0</td>\n",
       "      <td>0</td>\n",
       "      <td>1</td>\n",
       "      <td>6</td>\n",
       "      <td>1</td>\n",
       "      <td>0</td>\n",
       "      <td>0</td>\n",
       "      <td>1</td>\n",
       "      <td>0.017036</td>\n",
       "      <td>42</td>\n",
       "    </tr>\n",
       "  </tbody>\n",
       "</table>\n",
       "</div>"
      ],
      "text/plain": [
       "   DebtRatio  MonthlyIncome  NumberOfDependents  \\\n",
       "0          0              0                   1   \n",
       "\n",
       "   NumberOfOpenCreditLinesAndLoans  NumberOfTime30-59DaysPastDueNotWorse  \\\n",
       "0                                6                                     1   \n",
       "\n",
       "   NumberOfTime60-89DaysPastDueNotWorse  NumberOfTimes90DaysLate  \\\n",
       "0                                     0                        0   \n",
       "\n",
       "   NumberRealEstateLoansOrLines  RevolvingUtilizationOfUnsecuredLines  age  \n",
       "0                             1                              0.017036   42  "
      ]
     },
     "execution_count": 5,
     "metadata": {},
     "output_type": "execute_result"
    }
   ],
   "source": [
    "df = pd.DataFrame([df])\n",
    "df"
   ]
  },
  {
   "cell_type": "markdown",
   "metadata": {},
   "source": [
    "### Utilisation d'une méthode pour avoir un dataset avec toutes les modifications"
   ]
  },
  {
   "cell_type": "code",
   "execution_count": 6,
   "metadata": {},
   "outputs": [
    {
     "data": {
      "text/html": [
       "<div>\n",
       "<style scoped>\n",
       "    .dataframe tbody tr th:only-of-type {\n",
       "        vertical-align: middle;\n",
       "    }\n",
       "\n",
       "    .dataframe tbody tr th {\n",
       "        vertical-align: top;\n",
       "    }\n",
       "\n",
       "    .dataframe thead th {\n",
       "        text-align: right;\n",
       "    }\n",
       "</style>\n",
       "<table border=\"1\" class=\"dataframe\">\n",
       "  <thead>\n",
       "    <tr style=\"text-align: right;\">\n",
       "      <th></th>\n",
       "      <th>DebtRatio</th>\n",
       "      <th>MonthlyIncome</th>\n",
       "      <th>NumberOfDependents</th>\n",
       "      <th>NumberOfOpenCreditLinesAndLoans</th>\n",
       "      <th>NumberOfTime30-59DaysPastDueNotWorse</th>\n",
       "      <th>NumberOfTime60-89DaysPastDueNotWorse</th>\n",
       "      <th>NumberOfTimes90DaysLate</th>\n",
       "      <th>NumberRealEstateLoansOrLines</th>\n",
       "      <th>RevolvingUtilizationOfUnsecuredLines</th>\n",
       "      <th>age</th>\n",
       "      <th>IncomePerPerson</th>\n",
       "      <th>isOld</th>\n",
       "      <th>MonthlyDebt</th>\n",
       "      <th>MonthlyBalance</th>\n",
       "      <th>DebtPerPerson</th>\n",
       "      <th>BalancePerPerson</th>\n",
       "      <th>NumberOfTime30-89DaysPastDueNotWorse</th>\n",
       "      <th>NumbersOfOpen-NumberRealEstate</th>\n",
       "    </tr>\n",
       "    <tr>\n",
       "      <th>Id</th>\n",
       "      <th></th>\n",
       "      <th></th>\n",
       "      <th></th>\n",
       "      <th></th>\n",
       "      <th></th>\n",
       "      <th></th>\n",
       "      <th></th>\n",
       "      <th></th>\n",
       "      <th></th>\n",
       "      <th></th>\n",
       "      <th></th>\n",
       "      <th></th>\n",
       "      <th></th>\n",
       "      <th></th>\n",
       "      <th></th>\n",
       "      <th></th>\n",
       "      <th></th>\n",
       "      <th></th>\n",
       "    </tr>\n",
       "  </thead>\n",
       "  <tbody>\n",
       "    <tr>\n",
       "      <th>0</th>\n",
       "      <td>0</td>\n",
       "      <td>0</td>\n",
       "      <td>1</td>\n",
       "      <td>6</td>\n",
       "      <td>1</td>\n",
       "      <td>0</td>\n",
       "      <td>0</td>\n",
       "      <td>1</td>\n",
       "      <td>0.017036</td>\n",
       "      <td>42</td>\n",
       "      <td>0.0</td>\n",
       "      <td>0</td>\n",
       "      <td>0</td>\n",
       "      <td>0</td>\n",
       "      <td>0.0</td>\n",
       "      <td>0.0</td>\n",
       "      <td>1</td>\n",
       "      <td>5</td>\n",
       "    </tr>\n",
       "  </tbody>\n",
       "</table>\n",
       "</div>"
      ],
      "text/plain": [
       "    DebtRatio  MonthlyIncome  NumberOfDependents  \\\n",
       "Id                                                 \n",
       "0           0              0                   1   \n",
       "\n",
       "    NumberOfOpenCreditLinesAndLoans  NumberOfTime30-59DaysPastDueNotWorse  \\\n",
       "Id                                                                          \n",
       "0                                 6                                     1   \n",
       "\n",
       "    NumberOfTime60-89DaysPastDueNotWorse  NumberOfTimes90DaysLate  \\\n",
       "Id                                                                  \n",
       "0                                      0                        0   \n",
       "\n",
       "    NumberRealEstateLoansOrLines  RevolvingUtilizationOfUnsecuredLines  age  \\\n",
       "Id                                                                            \n",
       "0                              1                              0.017036   42   \n",
       "\n",
       "    IncomePerPerson isOld  MonthlyDebt  MonthlyBalance  DebtPerPerson  \\\n",
       "Id                                                                      \n",
       "0               0.0     0            0               0            0.0   \n",
       "\n",
       "    BalancePerPerson  NumberOfTime30-89DaysPastDueNotWorse  \\\n",
       "Id                                                           \n",
       "0                0.0                                     1   \n",
       "\n",
       "    NumbersOfOpen-NumberRealEstate  \n",
       "Id                                  \n",
       "0                                5  "
      ]
     },
     "execution_count": 6,
     "metadata": {},
     "output_type": "execute_result"
    }
   ],
   "source": [
    "import ipynb.fs.defs.GiveMeCredit_SubmissionKaggle_BigML as gmc_sk\n",
    "\n",
    "df_for_prediction = gmc_sk.change_dataset(df)\n",
    "df_for_prediction"
   ]
  },
  {
   "cell_type": "markdown",
   "metadata": {},
   "source": [
    "### Transformation du dataset en list pour pouvoir lui appliquer un modèle et faire la prédiction"
   ]
  },
  {
   "cell_type": "code",
   "execution_count": 7,
   "metadata": {},
   "outputs": [
    {
     "name": "stdout",
     "output_type": "stream",
     "text": [
      "{0: {'DebtRatio': 0, 'MonthlyIncome': 0, 'NumberOfDependents': 1, 'NumberOfOpenCreditLinesAndLoans': 6, 'NumberOfTime30-59DaysPastDueNotWorse': 1, 'NumberOfTime60-89DaysPastDueNotWorse': 0, 'NumberOfTimes90DaysLate': 0, 'NumberRealEstateLoansOrLines': 1, 'RevolvingUtilizationOfUnsecuredLines': 0.01703559, 'age': 42, 'IncomePerPerson': 0.0, 'isOld': '0', 'MonthlyDebt': 0, 'MonthlyBalance': 0, 'DebtPerPerson': 0.0, 'BalancePerPerson': 0.0, 'NumberOfTime30-89DaysPastDueNotWorse': 1, 'NumbersOfOpen-NumberRealEstate': 5}}\n"
     ]
    },
    {
     "data": {
      "text/plain": [
       "{'DebtRatio': 0,\n",
       " 'MonthlyIncome': 0,\n",
       " 'NumberOfDependents': 1,\n",
       " 'NumberOfOpenCreditLinesAndLoans': 6,\n",
       " 'NumberOfTime30-59DaysPastDueNotWorse': 1,\n",
       " 'NumberOfTime60-89DaysPastDueNotWorse': 0,\n",
       " 'NumberOfTimes90DaysLate': 0,\n",
       " 'NumberRealEstateLoansOrLines': 1,\n",
       " 'RevolvingUtilizationOfUnsecuredLines': 0.01703559,\n",
       " 'age': 42,\n",
       " 'IncomePerPerson': 0.0,\n",
       " 'isOld': '0',\n",
       " 'MonthlyDebt': 0,\n",
       " 'MonthlyBalance': 0,\n",
       " 'DebtPerPerson': 0.0,\n",
       " 'BalancePerPerson': 0.0,\n",
       " 'NumberOfTime30-89DaysPastDueNotWorse': 1,\n",
       " 'NumbersOfOpen-NumberRealEstate': 5}"
      ]
     },
     "execution_count": 7,
     "metadata": {},
     "output_type": "execute_result"
    }
   ],
   "source": [
    "input_data = df_for_prediction.to_dict('index')\n",
    "print(input_data)\n",
    "\n",
    "new_input_ok = input_data[0]\n",
    "new_input_ok"
   ]
  },
  {
   "cell_type": "markdown",
   "metadata": {},
   "source": [
    "### Modèle"
   ]
  },
  {
   "cell_type": "code",
   "execution_count": 8,
   "metadata": {},
   "outputs": [],
   "source": [
    "model_ensemble = Ensemble('ensemble/5dc2d7d3e476847468013866', api=BigML(domain=\"bigml.io\"))"
   ]
  },
  {
   "cell_type": "markdown",
   "metadata": {},
   "source": [
    "### Prédiction"
   ]
  },
  {
   "cell_type": "code",
   "execution_count": 9,
   "metadata": {},
   "outputs": [
    {
     "data": {
      "text/plain": [
       "{'probability': 0.96507, 'prediction': '0'}"
      ]
     },
     "execution_count": 9,
     "metadata": {},
     "output_type": "execute_result"
    }
   ],
   "source": [
    "input_prediction = model_ensemble.predict(new_input_ok, full=True)\n",
    "input_prediction"
   ]
  },
  {
   "cell_type": "markdown",
   "metadata": {},
   "source": [
    "- input_prediction(monthly_0) = 0.96507\n",
    "- input_prediction(monthly_1000) = 0.96507\n",
    "- input_prediction(monthly_3000) = 0.96914\n",
    "- input_prediction(monthly_15000) = 0.98153\n",
    "- input_prediction(monthly_300000) = 0.98162"
   ]
  },
  {
   "cell_type": "markdown",
   "metadata": {},
   "source": [
    "# Actions communes pour utilisation des librairies Scikit-learn et XGBoost"
   ]
  },
  {
   "cell_type": "markdown",
   "metadata": {},
   "source": [
    "Run [GiveMeCredit_Xgboost_Sklearn](GiveMeCredit_Xgboost_Sklearn.ipynb) notebook to create `model_skl` et `model_xgb`"
   ]
  },
  {
   "cell_type": "code",
   "execution_count": 10,
   "metadata": {},
   "outputs": [
    {
     "name": "stdout",
     "output_type": "stream",
     "text": [
      "(150000, 19)\n",
      "(101503, 19)\n",
      "(150000, 19)\n",
      "(101503, 19)\n",
      "(150000,)\n",
      "(150000, 18)\n",
      "(101503, 18)\n"
     ]
    },
    {
     "name": "stderr",
     "output_type": "stream",
     "text": [
      "100%|██████████| 1.70M/1.70M [00:03<00:00, 490kB/s] \n",
      "/opt/conda/lib/python3.7/site-packages/sklearn/ensemble/forest.py:246: FutureWarning: The default value of n_estimators will change from 10 in version 0.20 to 100 in 0.22.\n",
      "  \"10 in version 0.20 to 100 in 0.22.\", FutureWarning)\n",
      "100%|██████████| 984k/984k [00:05<00:00, 197kB/s]  \n"
     ]
    }
   ],
   "source": [
    "%run GiveMeCredit_Xgboost_Sklearn.ipynb"
   ]
  },
  {
   "cell_type": "markdown",
   "metadata": {},
   "source": [
    "#### Définition de X_new_input pour les 2 modèles"
   ]
  },
  {
   "cell_type": "code",
   "execution_count": 15,
   "metadata": {},
   "outputs": [],
   "source": [
    "X_new_input = df_for_prediction.values"
   ]
  },
  {
   "cell_type": "markdown",
   "metadata": {},
   "source": [
    "# Via librairie Sklearn"
   ]
  },
  {
   "cell_type": "markdown",
   "metadata": {},
   "source": [
    "#### Prédiction pour nouvel input"
   ]
  },
  {
   "cell_type": "code",
   "execution_count": 12,
   "metadata": {},
   "outputs": [],
   "source": [
    "y_nem_input_skl = model_skl.predict_proba(X_new_input)"
   ]
  },
  {
   "cell_type": "code",
   "execution_count": 13,
   "metadata": {},
   "outputs": [
    {
     "data": {
      "text/plain": [
       "array([[0.7, 0.3]])"
      ]
     },
     "execution_count": 13,
     "metadata": {},
     "output_type": "execute_result"
    }
   ],
   "source": [
    "y_nem_input_skl"
   ]
  },
  {
   "cell_type": "markdown",
   "metadata": {},
   "source": [
    "# Via librairie XGBoost "
   ]
  },
  {
   "cell_type": "markdown",
   "metadata": {},
   "source": [
    "#### Prédiction pour nouvel input"
   ]
  },
  {
   "cell_type": "code",
   "execution_count": 16,
   "metadata": {},
   "outputs": [],
   "source": [
    "y_nem_input_xgb = model_xgb.predict_proba(X_new_input)"
   ]
  },
  {
   "cell_type": "code",
   "execution_count": 17,
   "metadata": {},
   "outputs": [
    {
     "data": {
      "text/plain": [
       "array([[0.9511007, 0.0488993]], dtype=float32)"
      ]
     },
     "execution_count": 17,
     "metadata": {},
     "output_type": "execute_result"
    }
   ],
   "source": [
    "y_nem_input_xgb"
   ]
  },
  {
   "cell_type": "code",
   "execution_count": null,
   "metadata": {},
   "outputs": [],
   "source": []
  }
 ],
 "metadata": {
  "kernelspec": {
   "display_name": "Python 3",
   "language": "python",
   "name": "python3"
  },
  "language_info": {
   "codemirror_mode": {
    "name": "ipython",
    "version": 3
   },
   "file_extension": ".py",
   "mimetype": "text/x-python",
   "name": "python",
   "nbconvert_exporter": "python",
   "pygments_lexer": "ipython3",
   "version": "3.7.3"
  }
 },
 "nbformat": 4,
 "nbformat_minor": 2
}
